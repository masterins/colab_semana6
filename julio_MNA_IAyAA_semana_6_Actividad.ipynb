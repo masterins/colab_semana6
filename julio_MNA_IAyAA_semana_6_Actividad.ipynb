{
  "cells": [
    {
      "cell_type": "markdown",
      "metadata": {
        "id": "VFj0sSM06dYa"
      },
      "source": [
        "#**Maestría en Inteligencia Artificial Aplicada**\n",
        "##**Curso: Inteligencia Artificial y Aprendizaje Automático**\n",
        "###Tecnológico de Monterrey\n",
        "###Prof Luis Eduardo Falcón Morales\n",
        "\n",
        "## **Adtividad de la Semana 6**\n",
        "###**Árboles de decisión y bosque aleatorio.**\n"
      ]
    },
    {
      "cell_type": "markdown",
      "metadata": {
        "id": "Qgrvy0RGB9XI"
      },
      "source": [
        "**Nombres y matrículas de los integrantes del equipo:**\n",
        "\n",
        "*Julio Quintana - A01793661   \n",
        "*   \n",
        "*   \n",
        "*   \n",
        "*   \n"
      ]
    },
    {
      "cell_type": "markdown",
      "metadata": {
        "id": "FrJ2ahMODVj1"
      },
      "source": [
        "En cada sección deberás incluir todas las líneas de código necesarias para responder a cada uno de los ejercicios."
      ]
    },
    {
      "cell_type": "code",
      "execution_count": 6,
      "metadata": {
        "id": "exXsscs-Dh-2"
      },
      "outputs": [],
      "source": [
        "# Incluye aquí todos módulos, librerías y paquetes que requieras.\n",
        "import numpy as np\n",
        "import pandas as pd\n",
        "import seaborn as sns \n",
        "import matplotlib.pyplot as plt\n",
        "import warnings \n",
        "from pandas.core.arrays import categorical # agregar class pandas.Categorical(values, categories=None, ordered=None, dtype=None, fastpath=False, copy=True)\n",
        "from sklearn.pipeline import Pipeline # referencia 3.a\n",
        "from sklearn.preprocessing import MinMaxScaler, OneHotEncoder, StandardScaler\n",
        "\n",
        "from sklearn.metrics import confusion_matrix\n",
        "from sklearn.metrics import recall_score\n",
        "from sklearn.linear_model import LogisticRegression         \n",
        "\n",
        "from sklearn.metrics import classification_report, make_scorer\n",
        "from imblearn.metrics import geometric_mean_score, classification_report_imbalanced\n",
        "from sklearn.model_selection import  cross_validate,  RepeatedStratifiedKFold\n",
        "from sklearn.pipeline import Pipeline\n",
        "from sklearn.preprocessing import FunctionTransformer\n",
        "from sklearn.impute import SimpleImputer\n",
        "from sklearn.compose import ColumnTransformer\n",
        "\n",
        "from sklearn.model_selection import train_test_split"
      ]
    },
    {
      "cell_type": "code",
      "execution_count": 7,
      "metadata": {
        "id": "fVfsr_vxP26c"
      },
      "outputs": [],
      "source": [
        "import pandas as pd\n",
        "import numpy as np\n",
        "import matplotlib.pyplot as plt \n",
        "import seaborn as sns \n",
        "from sklearn.datasets import make_classification\n",
        "\n",
        "from sklearn.model_selection import train_test_split #Para hacer las particiones\n",
        "from sklearn.metrics import confusion_matrix\n",
        "from sklearn.metrics import recall_score         \n",
        "\n",
        "from sklearn.metrics import classification_report, make_scorer\n",
        "from imblearn.metrics import geometric_mean_score, classification_report_imbalanced\n",
        "from sklearn.model_selection import  cross_validate,  RepeatedStratifiedKFold\n",
        "from sklearn.pipeline import Pipeline\n",
        "from sklearn.preprocessing import MinMaxScaler, OneHotEncoder, StandardScaler\n",
        "from sklearn.preprocessing import FunctionTransformer\n",
        "from sklearn.impute import SimpleImputer\n",
        "from sklearn.preprocessing import OneHotEncoder\n",
        "from sklearn.compose import ColumnTransformer\n",
        "import requests, zipfile\n",
        "from io import BytesIO\n",
        "\n",
        "#Librerias para el ejercicio 4, los modelos\n",
        "from sklearn.linear_model import LogisticRegression\n",
        "from sklearn.tree import DecisionTreeClassifier\n",
        "from sklearn.ensemble import RandomForestClassifier\n",
        "\n",
        "#Librerias para el ejercicio 5\n",
        "from sklearn import svm, datasets\n",
        "from sklearn.model_selection import GridSearchCV\n",
        "from google.colab import drive\n",
        "\n",
        "import matplotlib.pyplot as plt\n",
        "from sklearn.model_selection import learning_curve, validation_curve"
      ]
    },
    {
      "cell_type": "markdown",
      "metadata": {
        "id": "X25brD-gQdZM"
      },
      "source": [
        "#**Ejercicio-1.** Carga los datos y sustituye los nombres de las columnas del alemán al inglés de acuerdo a como \n",
        "se indica en la página de la UCI.  "
      ]
    },
    {
      "cell_type": "code",
      "execution_count": 8,
      "metadata": {
        "id": "3nU2GuWYCy6C",
        "scrolled": true,
        "colab": {
          "base_uri": "https://localhost:8080/",
          "height": 506
        },
        "outputId": "22c8ac6d-b09f-450e-b919-7ee22d72fd83"
      },
      "outputs": [
        {
          "output_type": "stream",
          "name": "stdout",
          "text": [
            "Drive already mounted at /content/drive; to attempt to forcibly remount, call drive.mount(\"/content/drive\", force_remount=True).\n"
          ]
        },
        {
          "output_type": "execute_result",
          "data": {
            "text/plain": [
              "     laufkont  laufzeit  moral  verw  hoehe  sparkont  beszeit  rate  famges  \\\n",
              "0           1        18      4     2   1049         1        2     4       2   \n",
              "1           1         9      4     0   2799         1        3     2       3   \n",
              "2           2        12      2     9    841         2        4     2       2   \n",
              "3           1        12      4     0   2122         1        3     3       3   \n",
              "4           1        12      4     0   2171         1        3     4       3   \n",
              "..        ...       ...    ...   ...    ...       ...      ...   ...     ...   \n",
              "995         1        24      2     3   1987         1        3     2       3   \n",
              "996         1        24      2     0   2303         1        5     4       3   \n",
              "997         4        21      4     0  12680         5        5     4       3   \n",
              "998         2        12      2     3   6468         5        1     2       3   \n",
              "999         1        30      2     2   6350         5        5     4       3   \n",
              "\n",
              "     buerge  ...  verm  alter  weitkred  wohn  bishkred  beruf  pers  telef  \\\n",
              "0         1  ...     2     21         3     1         1      3     2      1   \n",
              "1         1  ...     1     36         3     1         2      3     1      1   \n",
              "2         1  ...     1     23         3     1         1      2     2      1   \n",
              "3         1  ...     1     39         3     1         2      2     1      1   \n",
              "4         1  ...     2     38         1     2         2      2     2      1   \n",
              "..      ...  ...   ...    ...       ...   ...       ...    ...   ...    ...   \n",
              "995       1  ...     1     21         3     1         1      2     1      1   \n",
              "996       2  ...     1     45         3     2         1      3     2      1   \n",
              "997       1  ...     4     30         3     3         1      4     2      2   \n",
              "998       1  ...     4     52         3     2         1      4     2      2   \n",
              "999       1  ...     2     31         3     2         1      3     2      1   \n",
              "\n",
              "     gastarb  kredit  \n",
              "0          2       1  \n",
              "1          2       1  \n",
              "2          2       1  \n",
              "3          1       1  \n",
              "4          1       1  \n",
              "..       ...     ...  \n",
              "995        2       0  \n",
              "996        2       0  \n",
              "997        2       0  \n",
              "998        2       0  \n",
              "999        2       0  \n",
              "\n",
              "[1000 rows x 21 columns]"
            ],
            "text/html": [
              "\n",
              "  <div id=\"df-d300354e-8ecd-4d85-a5d2-e40d90fd733f\">\n",
              "    <div class=\"colab-df-container\">\n",
              "      <div>\n",
              "<style scoped>\n",
              "    .dataframe tbody tr th:only-of-type {\n",
              "        vertical-align: middle;\n",
              "    }\n",
              "\n",
              "    .dataframe tbody tr th {\n",
              "        vertical-align: top;\n",
              "    }\n",
              "\n",
              "    .dataframe thead th {\n",
              "        text-align: right;\n",
              "    }\n",
              "</style>\n",
              "<table border=\"1\" class=\"dataframe\">\n",
              "  <thead>\n",
              "    <tr style=\"text-align: right;\">\n",
              "      <th></th>\n",
              "      <th>laufkont</th>\n",
              "      <th>laufzeit</th>\n",
              "      <th>moral</th>\n",
              "      <th>verw</th>\n",
              "      <th>hoehe</th>\n",
              "      <th>sparkont</th>\n",
              "      <th>beszeit</th>\n",
              "      <th>rate</th>\n",
              "      <th>famges</th>\n",
              "      <th>buerge</th>\n",
              "      <th>...</th>\n",
              "      <th>verm</th>\n",
              "      <th>alter</th>\n",
              "      <th>weitkred</th>\n",
              "      <th>wohn</th>\n",
              "      <th>bishkred</th>\n",
              "      <th>beruf</th>\n",
              "      <th>pers</th>\n",
              "      <th>telef</th>\n",
              "      <th>gastarb</th>\n",
              "      <th>kredit</th>\n",
              "    </tr>\n",
              "  </thead>\n",
              "  <tbody>\n",
              "    <tr>\n",
              "      <th>0</th>\n",
              "      <td>1</td>\n",
              "      <td>18</td>\n",
              "      <td>4</td>\n",
              "      <td>2</td>\n",
              "      <td>1049</td>\n",
              "      <td>1</td>\n",
              "      <td>2</td>\n",
              "      <td>4</td>\n",
              "      <td>2</td>\n",
              "      <td>1</td>\n",
              "      <td>...</td>\n",
              "      <td>2</td>\n",
              "      <td>21</td>\n",
              "      <td>3</td>\n",
              "      <td>1</td>\n",
              "      <td>1</td>\n",
              "      <td>3</td>\n",
              "      <td>2</td>\n",
              "      <td>1</td>\n",
              "      <td>2</td>\n",
              "      <td>1</td>\n",
              "    </tr>\n",
              "    <tr>\n",
              "      <th>1</th>\n",
              "      <td>1</td>\n",
              "      <td>9</td>\n",
              "      <td>4</td>\n",
              "      <td>0</td>\n",
              "      <td>2799</td>\n",
              "      <td>1</td>\n",
              "      <td>3</td>\n",
              "      <td>2</td>\n",
              "      <td>3</td>\n",
              "      <td>1</td>\n",
              "      <td>...</td>\n",
              "      <td>1</td>\n",
              "      <td>36</td>\n",
              "      <td>3</td>\n",
              "      <td>1</td>\n",
              "      <td>2</td>\n",
              "      <td>3</td>\n",
              "      <td>1</td>\n",
              "      <td>1</td>\n",
              "      <td>2</td>\n",
              "      <td>1</td>\n",
              "    </tr>\n",
              "    <tr>\n",
              "      <th>2</th>\n",
              "      <td>2</td>\n",
              "      <td>12</td>\n",
              "      <td>2</td>\n",
              "      <td>9</td>\n",
              "      <td>841</td>\n",
              "      <td>2</td>\n",
              "      <td>4</td>\n",
              "      <td>2</td>\n",
              "      <td>2</td>\n",
              "      <td>1</td>\n",
              "      <td>...</td>\n",
              "      <td>1</td>\n",
              "      <td>23</td>\n",
              "      <td>3</td>\n",
              "      <td>1</td>\n",
              "      <td>1</td>\n",
              "      <td>2</td>\n",
              "      <td>2</td>\n",
              "      <td>1</td>\n",
              "      <td>2</td>\n",
              "      <td>1</td>\n",
              "    </tr>\n",
              "    <tr>\n",
              "      <th>3</th>\n",
              "      <td>1</td>\n",
              "      <td>12</td>\n",
              "      <td>4</td>\n",
              "      <td>0</td>\n",
              "      <td>2122</td>\n",
              "      <td>1</td>\n",
              "      <td>3</td>\n",
              "      <td>3</td>\n",
              "      <td>3</td>\n",
              "      <td>1</td>\n",
              "      <td>...</td>\n",
              "      <td>1</td>\n",
              "      <td>39</td>\n",
              "      <td>3</td>\n",
              "      <td>1</td>\n",
              "      <td>2</td>\n",
              "      <td>2</td>\n",
              "      <td>1</td>\n",
              "      <td>1</td>\n",
              "      <td>1</td>\n",
              "      <td>1</td>\n",
              "    </tr>\n",
              "    <tr>\n",
              "      <th>4</th>\n",
              "      <td>1</td>\n",
              "      <td>12</td>\n",
              "      <td>4</td>\n",
              "      <td>0</td>\n",
              "      <td>2171</td>\n",
              "      <td>1</td>\n",
              "      <td>3</td>\n",
              "      <td>4</td>\n",
              "      <td>3</td>\n",
              "      <td>1</td>\n",
              "      <td>...</td>\n",
              "      <td>2</td>\n",
              "      <td>38</td>\n",
              "      <td>1</td>\n",
              "      <td>2</td>\n",
              "      <td>2</td>\n",
              "      <td>2</td>\n",
              "      <td>2</td>\n",
              "      <td>1</td>\n",
              "      <td>1</td>\n",
              "      <td>1</td>\n",
              "    </tr>\n",
              "    <tr>\n",
              "      <th>...</th>\n",
              "      <td>...</td>\n",
              "      <td>...</td>\n",
              "      <td>...</td>\n",
              "      <td>...</td>\n",
              "      <td>...</td>\n",
              "      <td>...</td>\n",
              "      <td>...</td>\n",
              "      <td>...</td>\n",
              "      <td>...</td>\n",
              "      <td>...</td>\n",
              "      <td>...</td>\n",
              "      <td>...</td>\n",
              "      <td>...</td>\n",
              "      <td>...</td>\n",
              "      <td>...</td>\n",
              "      <td>...</td>\n",
              "      <td>...</td>\n",
              "      <td>...</td>\n",
              "      <td>...</td>\n",
              "      <td>...</td>\n",
              "      <td>...</td>\n",
              "    </tr>\n",
              "    <tr>\n",
              "      <th>995</th>\n",
              "      <td>1</td>\n",
              "      <td>24</td>\n",
              "      <td>2</td>\n",
              "      <td>3</td>\n",
              "      <td>1987</td>\n",
              "      <td>1</td>\n",
              "      <td>3</td>\n",
              "      <td>2</td>\n",
              "      <td>3</td>\n",
              "      <td>1</td>\n",
              "      <td>...</td>\n",
              "      <td>1</td>\n",
              "      <td>21</td>\n",
              "      <td>3</td>\n",
              "      <td>1</td>\n",
              "      <td>1</td>\n",
              "      <td>2</td>\n",
              "      <td>1</td>\n",
              "      <td>1</td>\n",
              "      <td>2</td>\n",
              "      <td>0</td>\n",
              "    </tr>\n",
              "    <tr>\n",
              "      <th>996</th>\n",
              "      <td>1</td>\n",
              "      <td>24</td>\n",
              "      <td>2</td>\n",
              "      <td>0</td>\n",
              "      <td>2303</td>\n",
              "      <td>1</td>\n",
              "      <td>5</td>\n",
              "      <td>4</td>\n",
              "      <td>3</td>\n",
              "      <td>2</td>\n",
              "      <td>...</td>\n",
              "      <td>1</td>\n",
              "      <td>45</td>\n",
              "      <td>3</td>\n",
              "      <td>2</td>\n",
              "      <td>1</td>\n",
              "      <td>3</td>\n",
              "      <td>2</td>\n",
              "      <td>1</td>\n",
              "      <td>2</td>\n",
              "      <td>0</td>\n",
              "    </tr>\n",
              "    <tr>\n",
              "      <th>997</th>\n",
              "      <td>4</td>\n",
              "      <td>21</td>\n",
              "      <td>4</td>\n",
              "      <td>0</td>\n",
              "      <td>12680</td>\n",
              "      <td>5</td>\n",
              "      <td>5</td>\n",
              "      <td>4</td>\n",
              "      <td>3</td>\n",
              "      <td>1</td>\n",
              "      <td>...</td>\n",
              "      <td>4</td>\n",
              "      <td>30</td>\n",
              "      <td>3</td>\n",
              "      <td>3</td>\n",
              "      <td>1</td>\n",
              "      <td>4</td>\n",
              "      <td>2</td>\n",
              "      <td>2</td>\n",
              "      <td>2</td>\n",
              "      <td>0</td>\n",
              "    </tr>\n",
              "    <tr>\n",
              "      <th>998</th>\n",
              "      <td>2</td>\n",
              "      <td>12</td>\n",
              "      <td>2</td>\n",
              "      <td>3</td>\n",
              "      <td>6468</td>\n",
              "      <td>5</td>\n",
              "      <td>1</td>\n",
              "      <td>2</td>\n",
              "      <td>3</td>\n",
              "      <td>1</td>\n",
              "      <td>...</td>\n",
              "      <td>4</td>\n",
              "      <td>52</td>\n",
              "      <td>3</td>\n",
              "      <td>2</td>\n",
              "      <td>1</td>\n",
              "      <td>4</td>\n",
              "      <td>2</td>\n",
              "      <td>2</td>\n",
              "      <td>2</td>\n",
              "      <td>0</td>\n",
              "    </tr>\n",
              "    <tr>\n",
              "      <th>999</th>\n",
              "      <td>1</td>\n",
              "      <td>30</td>\n",
              "      <td>2</td>\n",
              "      <td>2</td>\n",
              "      <td>6350</td>\n",
              "      <td>5</td>\n",
              "      <td>5</td>\n",
              "      <td>4</td>\n",
              "      <td>3</td>\n",
              "      <td>1</td>\n",
              "      <td>...</td>\n",
              "      <td>2</td>\n",
              "      <td>31</td>\n",
              "      <td>3</td>\n",
              "      <td>2</td>\n",
              "      <td>1</td>\n",
              "      <td>3</td>\n",
              "      <td>2</td>\n",
              "      <td>1</td>\n",
              "      <td>2</td>\n",
              "      <td>0</td>\n",
              "    </tr>\n",
              "  </tbody>\n",
              "</table>\n",
              "<p>1000 rows × 21 columns</p>\n",
              "</div>\n",
              "      <button class=\"colab-df-convert\" onclick=\"convertToInteractive('df-d300354e-8ecd-4d85-a5d2-e40d90fd733f')\"\n",
              "              title=\"Convert this dataframe to an interactive table.\"\n",
              "              style=\"display:none;\">\n",
              "        \n",
              "  <svg xmlns=\"http://www.w3.org/2000/svg\" height=\"24px\"viewBox=\"0 0 24 24\"\n",
              "       width=\"24px\">\n",
              "    <path d=\"M0 0h24v24H0V0z\" fill=\"none\"/>\n",
              "    <path d=\"M18.56 5.44l.94 2.06.94-2.06 2.06-.94-2.06-.94-.94-2.06-.94 2.06-2.06.94zm-11 1L8.5 8.5l.94-2.06 2.06-.94-2.06-.94L8.5 2.5l-.94 2.06-2.06.94zm10 10l.94 2.06.94-2.06 2.06-.94-2.06-.94-.94-2.06-.94 2.06-2.06.94z\"/><path d=\"M17.41 7.96l-1.37-1.37c-.4-.4-.92-.59-1.43-.59-.52 0-1.04.2-1.43.59L10.3 9.45l-7.72 7.72c-.78.78-.78 2.05 0 2.83L4 21.41c.39.39.9.59 1.41.59.51 0 1.02-.2 1.41-.59l7.78-7.78 2.81-2.81c.8-.78.8-2.07 0-2.86zM5.41 20L4 18.59l7.72-7.72 1.47 1.35L5.41 20z\"/>\n",
              "  </svg>\n",
              "      </button>\n",
              "      \n",
              "  <style>\n",
              "    .colab-df-container {\n",
              "      display:flex;\n",
              "      flex-wrap:wrap;\n",
              "      gap: 12px;\n",
              "    }\n",
              "\n",
              "    .colab-df-convert {\n",
              "      background-color: #E8F0FE;\n",
              "      border: none;\n",
              "      border-radius: 50%;\n",
              "      cursor: pointer;\n",
              "      display: none;\n",
              "      fill: #1967D2;\n",
              "      height: 32px;\n",
              "      padding: 0 0 0 0;\n",
              "      width: 32px;\n",
              "    }\n",
              "\n",
              "    .colab-df-convert:hover {\n",
              "      background-color: #E2EBFA;\n",
              "      box-shadow: 0px 1px 2px rgba(60, 64, 67, 0.3), 0px 1px 3px 1px rgba(60, 64, 67, 0.15);\n",
              "      fill: #174EA6;\n",
              "    }\n",
              "\n",
              "    [theme=dark] .colab-df-convert {\n",
              "      background-color: #3B4455;\n",
              "      fill: #D2E3FC;\n",
              "    }\n",
              "\n",
              "    [theme=dark] .colab-df-convert:hover {\n",
              "      background-color: #434B5C;\n",
              "      box-shadow: 0px 1px 3px 1px rgba(0, 0, 0, 0.15);\n",
              "      filter: drop-shadow(0px 1px 2px rgba(0, 0, 0, 0.3));\n",
              "      fill: #FFFFFF;\n",
              "    }\n",
              "  </style>\n",
              "\n",
              "      <script>\n",
              "        const buttonEl =\n",
              "          document.querySelector('#df-d300354e-8ecd-4d85-a5d2-e40d90fd733f button.colab-df-convert');\n",
              "        buttonEl.style.display =\n",
              "          google.colab.kernel.accessAllowed ? 'block' : 'none';\n",
              "\n",
              "        async function convertToInteractive(key) {\n",
              "          const element = document.querySelector('#df-d300354e-8ecd-4d85-a5d2-e40d90fd733f');\n",
              "          const dataTable =\n",
              "            await google.colab.kernel.invokeFunction('convertToInteractive',\n",
              "                                                     [key], {});\n",
              "          if (!dataTable) return;\n",
              "\n",
              "          const docLinkHtml = 'Like what you see? Visit the ' +\n",
              "            '<a target=\"_blank\" href=https://colab.research.google.com/notebooks/data_table.ipynb>data table notebook</a>'\n",
              "            + ' to learn more about interactive tables.';\n",
              "          element.innerHTML = '';\n",
              "          dataTable['output_type'] = 'display_data';\n",
              "          await google.colab.output.renderOutput(dataTable, element);\n",
              "          const docLink = document.createElement('div');\n",
              "          docLink.innerHTML = docLinkHtml;\n",
              "          element.appendChild(docLink);\n",
              "        }\n",
              "      </script>\n",
              "    </div>\n",
              "  </div>\n",
              "  "
            ]
          },
          "metadata": {},
          "execution_count": 8
        }
      ],
      "source": [
        "#dirección local del archivo csv\n",
        "drive.mount('/content/drive')\n",
        "df= pd.read_csv('/content/drive/MyDrive/Colab Notebooks/SouthGermanCredit.asc',sep='\\s+')\n",
        "df"
      ]
    },
    {
      "cell_type": "code",
      "execution_count": 9,
      "metadata": {
        "id": "0ulkqXVGCy97",
        "colab": {
          "base_uri": "https://localhost:8080/",
          "height": 456
        },
        "outputId": "7fe054e4-a2bc-404c-b122-80be2522bf27"
      },
      "outputs": [
        {
          "output_type": "execute_result",
          "data": {
            "text/plain": [
              "   status  duration  history  purpose  amount  savings  employment_duration  \\\n",
              "0       1        18        4        2    1049        1                    2   \n",
              "1       1         9        4        0    2799        1                    3   \n",
              "2       2        12        2        9     841        2                    4   \n",
              "3       1        12        4        0    2122        1                    3   \n",
              "4       1        12        4        0    2171        1                    3   \n",
              "5       1        10        4        0    2241        1                    2   \n",
              "6       1         8        4        0    3398        1                    4   \n",
              "7       1         6        4        0    1361        1                    2   \n",
              "8       4        18        4        3    1098        1                    1   \n",
              "9       2        24        2        3    3758        3                    1   \n",
              "\n",
              "   installment_rate  personal_status  other_debtors  ...  property  age  \\\n",
              "0                 4                2              1  ...         2   21   \n",
              "1                 2                3              1  ...         1   36   \n",
              "2                 2                2              1  ...         1   23   \n",
              "3                 3                3              1  ...         1   39   \n",
              "4                 4                3              1  ...         2   38   \n",
              "5                 1                3              1  ...         1   48   \n",
              "6                 1                3              1  ...         1   39   \n",
              "7                 2                3              1  ...         1   40   \n",
              "8                 4                2              1  ...         3   65   \n",
              "9                 1                2              1  ...         4   23   \n",
              "\n",
              "   other_installment_plans  housing  number_credits  job  people_liable  \\\n",
              "0                        3        1               1    3              2   \n",
              "1                        3        1               2    3              1   \n",
              "2                        3        1               1    2              2   \n",
              "3                        3        1               2    2              1   \n",
              "4                        1        2               2    2              2   \n",
              "5                        3        1               2    2              1   \n",
              "6                        3        2               2    2              2   \n",
              "7                        3        2               1    2              1   \n",
              "8                        3        2               2    1              2   \n",
              "9                        3        1               1    1              2   \n",
              "\n",
              "   telephone  foreign_worker  credit_risk  \n",
              "0          1               2            1  \n",
              "1          1               2            1  \n",
              "2          1               2            1  \n",
              "3          1               1            1  \n",
              "4          1               1            1  \n",
              "5          1               1            1  \n",
              "6          1               1            1  \n",
              "7          1               1            1  \n",
              "8          1               2            1  \n",
              "9          1               2            1  \n",
              "\n",
              "[10 rows x 21 columns]"
            ],
            "text/html": [
              "\n",
              "  <div id=\"df-990508ce-04d8-4e60-b243-1f605c9c9638\">\n",
              "    <div class=\"colab-df-container\">\n",
              "      <div>\n",
              "<style scoped>\n",
              "    .dataframe tbody tr th:only-of-type {\n",
              "        vertical-align: middle;\n",
              "    }\n",
              "\n",
              "    .dataframe tbody tr th {\n",
              "        vertical-align: top;\n",
              "    }\n",
              "\n",
              "    .dataframe thead th {\n",
              "        text-align: right;\n",
              "    }\n",
              "</style>\n",
              "<table border=\"1\" class=\"dataframe\">\n",
              "  <thead>\n",
              "    <tr style=\"text-align: right;\">\n",
              "      <th></th>\n",
              "      <th>status</th>\n",
              "      <th>duration</th>\n",
              "      <th>history</th>\n",
              "      <th>purpose</th>\n",
              "      <th>amount</th>\n",
              "      <th>savings</th>\n",
              "      <th>employment_duration</th>\n",
              "      <th>installment_rate</th>\n",
              "      <th>personal_status</th>\n",
              "      <th>other_debtors</th>\n",
              "      <th>...</th>\n",
              "      <th>property</th>\n",
              "      <th>age</th>\n",
              "      <th>other_installment_plans</th>\n",
              "      <th>housing</th>\n",
              "      <th>number_credits</th>\n",
              "      <th>job</th>\n",
              "      <th>people_liable</th>\n",
              "      <th>telephone</th>\n",
              "      <th>foreign_worker</th>\n",
              "      <th>credit_risk</th>\n",
              "    </tr>\n",
              "  </thead>\n",
              "  <tbody>\n",
              "    <tr>\n",
              "      <th>0</th>\n",
              "      <td>1</td>\n",
              "      <td>18</td>\n",
              "      <td>4</td>\n",
              "      <td>2</td>\n",
              "      <td>1049</td>\n",
              "      <td>1</td>\n",
              "      <td>2</td>\n",
              "      <td>4</td>\n",
              "      <td>2</td>\n",
              "      <td>1</td>\n",
              "      <td>...</td>\n",
              "      <td>2</td>\n",
              "      <td>21</td>\n",
              "      <td>3</td>\n",
              "      <td>1</td>\n",
              "      <td>1</td>\n",
              "      <td>3</td>\n",
              "      <td>2</td>\n",
              "      <td>1</td>\n",
              "      <td>2</td>\n",
              "      <td>1</td>\n",
              "    </tr>\n",
              "    <tr>\n",
              "      <th>1</th>\n",
              "      <td>1</td>\n",
              "      <td>9</td>\n",
              "      <td>4</td>\n",
              "      <td>0</td>\n",
              "      <td>2799</td>\n",
              "      <td>1</td>\n",
              "      <td>3</td>\n",
              "      <td>2</td>\n",
              "      <td>3</td>\n",
              "      <td>1</td>\n",
              "      <td>...</td>\n",
              "      <td>1</td>\n",
              "      <td>36</td>\n",
              "      <td>3</td>\n",
              "      <td>1</td>\n",
              "      <td>2</td>\n",
              "      <td>3</td>\n",
              "      <td>1</td>\n",
              "      <td>1</td>\n",
              "      <td>2</td>\n",
              "      <td>1</td>\n",
              "    </tr>\n",
              "    <tr>\n",
              "      <th>2</th>\n",
              "      <td>2</td>\n",
              "      <td>12</td>\n",
              "      <td>2</td>\n",
              "      <td>9</td>\n",
              "      <td>841</td>\n",
              "      <td>2</td>\n",
              "      <td>4</td>\n",
              "      <td>2</td>\n",
              "      <td>2</td>\n",
              "      <td>1</td>\n",
              "      <td>...</td>\n",
              "      <td>1</td>\n",
              "      <td>23</td>\n",
              "      <td>3</td>\n",
              "      <td>1</td>\n",
              "      <td>1</td>\n",
              "      <td>2</td>\n",
              "      <td>2</td>\n",
              "      <td>1</td>\n",
              "      <td>2</td>\n",
              "      <td>1</td>\n",
              "    </tr>\n",
              "    <tr>\n",
              "      <th>3</th>\n",
              "      <td>1</td>\n",
              "      <td>12</td>\n",
              "      <td>4</td>\n",
              "      <td>0</td>\n",
              "      <td>2122</td>\n",
              "      <td>1</td>\n",
              "      <td>3</td>\n",
              "      <td>3</td>\n",
              "      <td>3</td>\n",
              "      <td>1</td>\n",
              "      <td>...</td>\n",
              "      <td>1</td>\n",
              "      <td>39</td>\n",
              "      <td>3</td>\n",
              "      <td>1</td>\n",
              "      <td>2</td>\n",
              "      <td>2</td>\n",
              "      <td>1</td>\n",
              "      <td>1</td>\n",
              "      <td>1</td>\n",
              "      <td>1</td>\n",
              "    </tr>\n",
              "    <tr>\n",
              "      <th>4</th>\n",
              "      <td>1</td>\n",
              "      <td>12</td>\n",
              "      <td>4</td>\n",
              "      <td>0</td>\n",
              "      <td>2171</td>\n",
              "      <td>1</td>\n",
              "      <td>3</td>\n",
              "      <td>4</td>\n",
              "      <td>3</td>\n",
              "      <td>1</td>\n",
              "      <td>...</td>\n",
              "      <td>2</td>\n",
              "      <td>38</td>\n",
              "      <td>1</td>\n",
              "      <td>2</td>\n",
              "      <td>2</td>\n",
              "      <td>2</td>\n",
              "      <td>2</td>\n",
              "      <td>1</td>\n",
              "      <td>1</td>\n",
              "      <td>1</td>\n",
              "    </tr>\n",
              "    <tr>\n",
              "      <th>5</th>\n",
              "      <td>1</td>\n",
              "      <td>10</td>\n",
              "      <td>4</td>\n",
              "      <td>0</td>\n",
              "      <td>2241</td>\n",
              "      <td>1</td>\n",
              "      <td>2</td>\n",
              "      <td>1</td>\n",
              "      <td>3</td>\n",
              "      <td>1</td>\n",
              "      <td>...</td>\n",
              "      <td>1</td>\n",
              "      <td>48</td>\n",
              "      <td>3</td>\n",
              "      <td>1</td>\n",
              "      <td>2</td>\n",
              "      <td>2</td>\n",
              "      <td>1</td>\n",
              "      <td>1</td>\n",
              "      <td>1</td>\n",
              "      <td>1</td>\n",
              "    </tr>\n",
              "    <tr>\n",
              "      <th>6</th>\n",
              "      <td>1</td>\n",
              "      <td>8</td>\n",
              "      <td>4</td>\n",
              "      <td>0</td>\n",
              "      <td>3398</td>\n",
              "      <td>1</td>\n",
              "      <td>4</td>\n",
              "      <td>1</td>\n",
              "      <td>3</td>\n",
              "      <td>1</td>\n",
              "      <td>...</td>\n",
              "      <td>1</td>\n",
              "      <td>39</td>\n",
              "      <td>3</td>\n",
              "      <td>2</td>\n",
              "      <td>2</td>\n",
              "      <td>2</td>\n",
              "      <td>2</td>\n",
              "      <td>1</td>\n",
              "      <td>1</td>\n",
              "      <td>1</td>\n",
              "    </tr>\n",
              "    <tr>\n",
              "      <th>7</th>\n",
              "      <td>1</td>\n",
              "      <td>6</td>\n",
              "      <td>4</td>\n",
              "      <td>0</td>\n",
              "      <td>1361</td>\n",
              "      <td>1</td>\n",
              "      <td>2</td>\n",
              "      <td>2</td>\n",
              "      <td>3</td>\n",
              "      <td>1</td>\n",
              "      <td>...</td>\n",
              "      <td>1</td>\n",
              "      <td>40</td>\n",
              "      <td>3</td>\n",
              "      <td>2</td>\n",
              "      <td>1</td>\n",
              "      <td>2</td>\n",
              "      <td>1</td>\n",
              "      <td>1</td>\n",
              "      <td>1</td>\n",
              "      <td>1</td>\n",
              "    </tr>\n",
              "    <tr>\n",
              "      <th>8</th>\n",
              "      <td>4</td>\n",
              "      <td>18</td>\n",
              "      <td>4</td>\n",
              "      <td>3</td>\n",
              "      <td>1098</td>\n",
              "      <td>1</td>\n",
              "      <td>1</td>\n",
              "      <td>4</td>\n",
              "      <td>2</td>\n",
              "      <td>1</td>\n",
              "      <td>...</td>\n",
              "      <td>3</td>\n",
              "      <td>65</td>\n",
              "      <td>3</td>\n",
              "      <td>2</td>\n",
              "      <td>2</td>\n",
              "      <td>1</td>\n",
              "      <td>2</td>\n",
              "      <td>1</td>\n",
              "      <td>2</td>\n",
              "      <td>1</td>\n",
              "    </tr>\n",
              "    <tr>\n",
              "      <th>9</th>\n",
              "      <td>2</td>\n",
              "      <td>24</td>\n",
              "      <td>2</td>\n",
              "      <td>3</td>\n",
              "      <td>3758</td>\n",
              "      <td>3</td>\n",
              "      <td>1</td>\n",
              "      <td>1</td>\n",
              "      <td>2</td>\n",
              "      <td>1</td>\n",
              "      <td>...</td>\n",
              "      <td>4</td>\n",
              "      <td>23</td>\n",
              "      <td>3</td>\n",
              "      <td>1</td>\n",
              "      <td>1</td>\n",
              "      <td>1</td>\n",
              "      <td>2</td>\n",
              "      <td>1</td>\n",
              "      <td>2</td>\n",
              "      <td>1</td>\n",
              "    </tr>\n",
              "  </tbody>\n",
              "</table>\n",
              "<p>10 rows × 21 columns</p>\n",
              "</div>\n",
              "      <button class=\"colab-df-convert\" onclick=\"convertToInteractive('df-990508ce-04d8-4e60-b243-1f605c9c9638')\"\n",
              "              title=\"Convert this dataframe to an interactive table.\"\n",
              "              style=\"display:none;\">\n",
              "        \n",
              "  <svg xmlns=\"http://www.w3.org/2000/svg\" height=\"24px\"viewBox=\"0 0 24 24\"\n",
              "       width=\"24px\">\n",
              "    <path d=\"M0 0h24v24H0V0z\" fill=\"none\"/>\n",
              "    <path d=\"M18.56 5.44l.94 2.06.94-2.06 2.06-.94-2.06-.94-.94-2.06-.94 2.06-2.06.94zm-11 1L8.5 8.5l.94-2.06 2.06-.94-2.06-.94L8.5 2.5l-.94 2.06-2.06.94zm10 10l.94 2.06.94-2.06 2.06-.94-2.06-.94-.94-2.06-.94 2.06-2.06.94z\"/><path d=\"M17.41 7.96l-1.37-1.37c-.4-.4-.92-.59-1.43-.59-.52 0-1.04.2-1.43.59L10.3 9.45l-7.72 7.72c-.78.78-.78 2.05 0 2.83L4 21.41c.39.39.9.59 1.41.59.51 0 1.02-.2 1.41-.59l7.78-7.78 2.81-2.81c.8-.78.8-2.07 0-2.86zM5.41 20L4 18.59l7.72-7.72 1.47 1.35L5.41 20z\"/>\n",
              "  </svg>\n",
              "      </button>\n",
              "      \n",
              "  <style>\n",
              "    .colab-df-container {\n",
              "      display:flex;\n",
              "      flex-wrap:wrap;\n",
              "      gap: 12px;\n",
              "    }\n",
              "\n",
              "    .colab-df-convert {\n",
              "      background-color: #E8F0FE;\n",
              "      border: none;\n",
              "      border-radius: 50%;\n",
              "      cursor: pointer;\n",
              "      display: none;\n",
              "      fill: #1967D2;\n",
              "      height: 32px;\n",
              "      padding: 0 0 0 0;\n",
              "      width: 32px;\n",
              "    }\n",
              "\n",
              "    .colab-df-convert:hover {\n",
              "      background-color: #E2EBFA;\n",
              "      box-shadow: 0px 1px 2px rgba(60, 64, 67, 0.3), 0px 1px 3px 1px rgba(60, 64, 67, 0.15);\n",
              "      fill: #174EA6;\n",
              "    }\n",
              "\n",
              "    [theme=dark] .colab-df-convert {\n",
              "      background-color: #3B4455;\n",
              "      fill: #D2E3FC;\n",
              "    }\n",
              "\n",
              "    [theme=dark] .colab-df-convert:hover {\n",
              "      background-color: #434B5C;\n",
              "      box-shadow: 0px 1px 3px 1px rgba(0, 0, 0, 0.15);\n",
              "      filter: drop-shadow(0px 1px 2px rgba(0, 0, 0, 0.3));\n",
              "      fill: #FFFFFF;\n",
              "    }\n",
              "  </style>\n",
              "\n",
              "      <script>\n",
              "        const buttonEl =\n",
              "          document.querySelector('#df-990508ce-04d8-4e60-b243-1f605c9c9638 button.colab-df-convert');\n",
              "        buttonEl.style.display =\n",
              "          google.colab.kernel.accessAllowed ? 'block' : 'none';\n",
              "\n",
              "        async function convertToInteractive(key) {\n",
              "          const element = document.querySelector('#df-990508ce-04d8-4e60-b243-1f605c9c9638');\n",
              "          const dataTable =\n",
              "            await google.colab.kernel.invokeFunction('convertToInteractive',\n",
              "                                                     [key], {});\n",
              "          if (!dataTable) return;\n",
              "\n",
              "          const docLinkHtml = 'Like what you see? Visit the ' +\n",
              "            '<a target=\"_blank\" href=https://colab.research.google.com/notebooks/data_table.ipynb>data table notebook</a>'\n",
              "            + ' to learn more about interactive tables.';\n",
              "          element.innerHTML = '';\n",
              "          dataTable['output_type'] = 'display_data';\n",
              "          await google.colab.output.renderOutput(dataTable, element);\n",
              "          const docLink = document.createElement('div');\n",
              "          docLink.innerHTML = docLinkHtml;\n",
              "          element.appendChild(docLink);\n",
              "        }\n",
              "      </script>\n",
              "    </div>\n",
              "  </div>\n",
              "  "
            ]
          },
          "metadata": {},
          "execution_count": 9
        }
      ],
      "source": [
        "#cambia titulos de idioma\n",
        "headers = {'laufkont':'status','laufzeit':'duration','moral':'history','verw':'purpose','hoehe':'amount','sparkont':'savings','beszeit':'employment_duration','rate':'installment_rate','famges':'personal_status','buerge':'other_debtors','wohnzeit':'present_residence','verm':'property','alter':'age','weitkred':'other_installment_plans','wohn':'housing','bishkred':'number_credits','beruf':'job','pers':'people_liable','telef':'telephone','gastarb':'foreign_worker','kredit':'credit_risk'}\n",
        "df.rename(columns= headers, inplace = True)\n",
        "df.head(10)"
      ]
    },
    {
      "cell_type": "markdown",
      "metadata": {
        "id": "xZhr2hkECzVv"
      },
      "source": [
        "#**Ejercicio-2.** Realiza una partición de los datos en el conjunto de entrenamiento del 85% y el de prueba de 15%. Los modelos se estarán entrenando con el método de validación cruzada, así que no es necesario en este paso generar el conjunto de validación. Define como la variable X a todas las variables de entrada y a la variable Y como la variable de salida."
      ]
    },
    {
      "cell_type": "code",
      "execution_count": 10,
      "metadata": {
        "id": "kGfAoOPkC1PP"
      },
      "outputs": [],
      "source": [
        "# se definen variables de entrada y salida\n",
        "X = df.iloc[:,0:20]  \n",
        "\n",
        "Y = df.iloc[:,-1]   "
      ]
    },
    {
      "cell_type": "code",
      "execution_count": 11,
      "metadata": {
        "id": "GOydw5OGC1MJ",
        "colab": {
          "base_uri": "https://localhost:8080/"
        },
        "outputId": "8693c675-27dd-4638-ab92-b1a5d4e80291"
      },
      "outputs": [
        {
          "output_type": "stream",
          "name": "stdout",
          "text": [
            "(850, 20) : dimensión de datos de entrada para entrenamiento y validación\n",
            "(150, 20) : dimensión de datos de entrada para prueba\n",
            "(850,) : dimensión de variable de salida para entrenamiento y validación\n",
            "(150,) : dimensión de variable de salida para prueba\n"
          ]
        }
      ],
      "source": [
        "# separando set de entrenamiento y prueba en 85/15\n",
        "Xtrain, Xtest, ytrain, ytest = train_test_split(X, Y, test_size=0.15, stratify=Y, random_state=1)  \n",
        "print(Xtrain.shape, ': dimensión de datos de entrada para entrenamiento y validación')\n",
        "print(Xtest.shape, ': dimensión de datos de entrada para prueba')  \n",
        "\n",
        "print(ytrain.shape, ': dimensión de variable de salida para entrenamiento y validación')\n",
        "print(ytest.shape, ': dimensión de variable de salida para prueba')"
      ]
    },
    {
      "cell_type": "markdown",
      "metadata": {
        "id": "NCunuooTC2W3"
      },
      "source": [
        "#**Ejercicio-3.**\n",
        "\n",
        "Como una primera aproximación (baseline) realizarás las siguientes transformaciones mínimas para generar los primeros modelos. En la misma página de la UCI se indica el tipo de variable de cada uno de los factores. Definen cuatro tipo de variables: categórica (categorical), ordinal (discretized quantitative), numérica (quantitative) y binaria (binary). Con base a dicha información realiza un Pipeline que incluya al menos las siguientes transformaciones:\n"
      ]
    },
    {
      "cell_type": "code",
      "execution_count": 12,
      "metadata": {
        "id": "BKI80-YdC4HN",
        "colab": {
          "base_uri": "https://localhost:8080/"
        },
        "outputId": "a1db7b88-3fd9-4a01-d176-6d89bf05cf05"
      },
      "outputs": [
        {
          "output_type": "stream",
          "name": "stdout",
          "text": [
            "<class 'pandas.core.frame.DataFrame'>\n",
            "Int64Index: 850 entries, 655 to 555\n",
            "Data columns (total 20 columns):\n",
            " #   Column                   Non-Null Count  Dtype\n",
            "---  ------                   --------------  -----\n",
            " 0   status                   850 non-null    int64\n",
            " 1   duration                 850 non-null    int64\n",
            " 2   history                  850 non-null    int64\n",
            " 3   purpose                  850 non-null    int64\n",
            " 4   amount                   850 non-null    int64\n",
            " 5   savings                  850 non-null    int64\n",
            " 6   employment_duration      850 non-null    int64\n",
            " 7   installment_rate         850 non-null    int64\n",
            " 8   personal_status          850 non-null    int64\n",
            " 9   other_debtors            850 non-null    int64\n",
            " 10  present_residence        850 non-null    int64\n",
            " 11  property                 850 non-null    int64\n",
            " 12  age                      850 non-null    int64\n",
            " 13  other_installment_plans  850 non-null    int64\n",
            " 14  housing                  850 non-null    int64\n",
            " 15  number_credits           850 non-null    int64\n",
            " 16  job                      850 non-null    int64\n",
            " 17  people_liable            850 non-null    int64\n",
            " 18  telephone                850 non-null    int64\n",
            " 19  foreign_worker           850 non-null    int64\n",
            "dtypes: int64(20)\n",
            "memory usage: 139.5 KB\n"
          ]
        }
      ],
      "source": [
        "\n",
        "#revisar si hay datos NA o nulos para hacer imputacion\n",
        "Xtrain.info()"
      ]
    },
    {
      "cell_type": "code",
      "execution_count": 13,
      "metadata": {
        "id": "YXlcSWA-C4Dj"
      },
      "outputs": [],
      "source": [
        "# definicion de varialbles categoricas, ordinales, numericas y binarias\n",
        "var_cat = ['status','history','purpose','savings','personal_status','other_debtors','other_installment_plans','housing']\n",
        "var_ord = ['employment_duration','installment_rate','present_residence','property','number_credits','job']\n",
        "var_num = ['duration','amount','age'] \n",
        "var_bin = ['people_liable','foreign_worker', 'telephone']"
      ]
    },
    {
      "cell_type": "markdown",
      "metadata": {
        "id": "V3DPefGRP26f"
      },
      "source": [
        "a. Imputación a todas las variables de entrada, diferenciando entre el tipo de cada variable (decide y justifica que tipo de imputación realizas en cada caso)."
      ]
    },
    {
      "cell_type": "code",
      "execution_count": 14,
      "metadata": {
        "id": "5Y2jlPEhP26f"
      },
      "outputs": [],
      "source": [
        "#realizar la imputacion de las variables de entrada\n",
        "#Categoricas\n",
        "imputacion_categorica = SimpleImputer( strategy = \"most_frequent\") \n",
        "imputacion_categorica = imputacion_categorica.fit_transform( Xtrain[ var_cat ], ytrain )\n",
        "#Binarias \n",
        "imputacion_binaria= SimpleImputer( strategy = \"most_frequent\") \n",
        "imputacion_binaria= imputacion_binaria.fit_transform( Xtrain[ var_bin ], ytrain )\n",
        "#Cuantitativas\n",
        "imputacion_cuantitativa= SimpleImputer( strategy = \"mean\")\n",
        "imputacion_cuantitativa= imputacion_cuantitativa.fit_transform( Xtrain[ var_num ], ytrain )"
      ]
    },
    {
      "cell_type": "markdown",
      "metadata": {
        "id": "Jbon-bnyP26f"
      },
      "source": [
        "b. Realiza un análisis de las variables numéricas (quantitative) de entrada y aplica una \n",
        "transformación que escale a todas ellas en un rango equiparable."
      ]
    },
    {
      "cell_type": "code",
      "execution_count": 15,
      "metadata": {
        "colab": {
          "base_uri": "https://localhost:8080/",
          "height": 1000
        },
        "id": "KPmbAFnkP26f",
        "outputId": "abf150e9-a231-4ff1-f3b4-08c264dcc828"
      },
      "outputs": [
        {
          "output_type": "display_data",
          "data": {
            "text/plain": [
              "<Figure size 1440x1440 with 9 Axes>"
            ],
            "image/png": "[encoded data removed]"
          },
          "metadata": {}
        }
      ],
      "source": [
        "# Configurando el tamaño de las gráficas y su distribución\n",
        "sns.set(rc={'figure.figsize':(20,20)}) \n",
        "fig, axes = plt.subplots(3, 3)   \n",
        "#numerica\n",
        "k=0\n",
        "# Gráficas de las variables cuantitativas\n",
        "for k in range(0,3):  \n",
        "  plt.subplot(3, 3, k+1) \n",
        "\n",
        "  Transf0 = Xtrain[var_num].iloc[:,k].to_numpy().reshape(-1, 1)\n",
        "  plt.hist(Transf0, bins=20) \n",
        "  plt.xlabel(var_num[k])\n",
        "  if k==0:\n",
        "    plt.ylabel(\"Numérica\")\n",
        "  \n",
        "  plt.subplot(3, 3, k+4)    \n",
        "  Transf1 = np.sqrt(Transf0)       \n",
        "  plt.hist(Transf1, bins=20)       \n",
        "  plt.xlabel(var_num[k])\n",
        "  if k==0:\n",
        "    plt.ylabel(\"Raíz cuadrada\")\n",
        "\n",
        "  plt.subplot(3, 3, k+7)    \n",
        "  Transf2 = np.log(Transf0)       \n",
        "  plt.hist(Transf2, bins=20)      \n",
        "  plt.xlabel(var_num[k])\n",
        "  if k==0:\n",
        "    plt.ylabel(\"Logaritmo\")\n",
        "\n"
      ]
    },
    {
      "cell_type": "raw",
      "metadata": {
        "id": "4Eqhx4A4P26f"
      },
      "source": [
        "#Modificacion del rango del logaritmo\n",
        "pipeline_num = Pipeline(steps = [('scalar', MinMaxScaler(feature_range=(1,2))),('log', FunctionTransformer(np.log))])\n",
        "\n",
        "#Transformaciones para columnas categoricas\n",
        "pipeline_cat = Pipeline(steps = [('OneHotE', OneHotEncoder(drop='first',handle_unknown='ignore'))])\n",
        "\n",
        "#pipelineBinarias = Pipeline(steps = [('impModa', SimpleImputer(strategy='most_frequent')), ('OneHotE', OneHotEncoder(drop='first', handle_unknown = 'ignore'))])\n",
        "#columnasBinarias = variablesBinarias"
      ]
    },
    {
      "cell_type": "code",
      "execution_count": 16,
      "metadata": {
        "id": "Sz5wNCAsP26f"
      },
      "outputs": [],
      "source": [
        "# Escalando las variables cuantitativas a un rango equiparable\n",
        "pipeline_num = Pipeline(steps = [('scalar', MinMaxScaler(feature_range=(1,2))),('log', FunctionTransformer(np.log))])\n",
        "col_num = var_num\n",
        "\n",
        "# Aplicando One-Hot\n",
        "pipeline_cat = Pipeline(steps = [('impModa', SimpleImputer(strategy='most_frequent')), ('OneHotE', OneHotEncoder(drop='first', handle_unknown = 'ignore'))])\n",
        "col_cat= var_cat\n",
        "\n",
        "pipeline_Bin = Pipeline(steps = [('impModa', SimpleImputer(strategy='most_frequent')), ('OneHotE', OneHotEncoder(drop='first', handle_unknown = 'ignore'))])\n",
        "col_bin = var_bin\n",
        "\n",
        "\n",
        "col_trans = ColumnTransformer(transformers = [('numerical', pipeline_num, col_num),\n",
        "                                                        ('categorical', pipeline_cat, col_cat),\n",
        "                                                        ('binaries', pipeline_Bin, col_bin),\n",
        "                                                        ], remainder='passthrough')"
      ]
    },
    {
      "cell_type": "raw",
      "metadata": {
        "id": "L63pd4bJP26f"
      },
      "source": [
        "#corroborar no cambios en el df inicial\n",
        "df.head()"
      ]
    },
    {
      "cell_type": "markdown",
      "metadata": {
        "id": "OPnVs_uBP26g"
      },
      "source": [
        "c. Aplica la transformación One-Hot encoding a las variables de entrada de tipo categórico y \n",
        "binaria. En particular, justifica por qué una variable binaria requeriría que se le aplique  la \n",
        "transformación one-hot encoding. Por el momento dejar las variables ordinales sin \n",
        "transformar. "
      ]
    },
    {
      "cell_type": "raw",
      "metadata": {
        "id": "JmDqjCfMP26g"
      },
      "source": [
        "# Aplicando One-Hot Encoder\n",
        "col_trans =  ColumnTransformer(transformers = [('numerical', pipeline_num, col_pip_num),\n",
        "                                               ('categorical', pipeline_cat, col_num_cat),\n",
        "                                               ('binary', pipeline_cat, col_pip_bin)],\n",
        "                                                remainder='passtrough')"
      ]
    },
    {
      "cell_type": "raw",
      "metadata": {
        "id": "y2zGW9l-P26g"
      },
      "source": [
        "# var_bin = ['people_liable','foreign_worker', 'telephone'] referencia de columnas binarias\n",
        "# People_liable\n",
        "\n",
        "people_liable = df2.people_liable.unique()\n",
        "people_liable\n",
        "\n",
        "# usamos la funcion One Hot Encoder\n",
        "oh_enc = OneHotEncoder(handle_unknown='ignore')\n",
        "\n",
        "# agrega las columnas usando one hot encoder\n",
        "oh_enc_df = pd.DataFrame(oh_enc.fit_transform(df2[['people_liable']]).toarray())\n",
        "df2 = df2.join(oh_enc_df)\n",
        "df2.rename(columns={0 :'People_liable_1', 1 :'People_liable_2'}, inplace = True)\n",
        "df2"
      ]
    },
    {
      "cell_type": "raw",
      "metadata": {
        "id": "SWuuayILP26g"
      },
      "source": [
        "# foreign_worker\n",
        "\n",
        "foreign_worker = df2.foreign_worker.unique()\n",
        "foreign_worker\n",
        "\n",
        "# usamos la funcion One Hot Encoder\n",
        "oh_enc = OneHotEncoder(handle_unknown='ignore')\n",
        "\n",
        "# agrega las columnas usando one hot encoder\n",
        "oh_enc_df = pd.DataFrame(oh_enc.fit_transform(df2[['foreign_worker']]).toarray())\n",
        "df2 = df2.join(oh_enc_df)\n",
        "df2.rename(columns={0 :'foreign_worker_1', 1 :'foreign_worker_2'}, inplace = True)\n",
        "df2"
      ]
    },
    {
      "cell_type": "raw",
      "metadata": {
        "id": "yfvjWizKP26g"
      },
      "source": [
        "# telephone\n",
        "\n",
        "telephone = df2.telephone.unique()\n",
        "telephone\n",
        "\n",
        "# usamos la funcion One Hot Encoder\n",
        "oh_enc = OneHotEncoder(handle_unknown='ignore')\n",
        "\n",
        "# agrega las columnas usando one hot encoder\n",
        "oh_enc_df = pd.DataFrame(oh_enc.fit_transform(df2[['telephone']]).toarray())\n",
        "df2 = df2.join(oh_enc_df)\n",
        "df2.rename(columns={0 :'teleforne_1', 1 :'telephone_2'}, inplace = True)\n",
        "df2"
      ]
    },
    {
      "cell_type": "markdown",
      "metadata": {
        "id": "chqk9jIDC5Pq"
      },
      "source": [
        "#**Ejercicio-4.**"
      ]
    },
    {
      "cell_type": "markdown",
      "metadata": {
        "id": "pKNL0nIfP26g"
      },
      "source": [
        "a.Usa los parámetros predeterminados de cada modelo.  "
      ]
    },
    {
      "cell_type": "code",
      "execution_count": 17,
      "metadata": {
        "id": "RBVSFwK4C6g9"
      },
      "outputs": [],
      "source": [
        "# Se establecen los modelos a procesar\n",
        "def getModelos():\n",
        "    modelos= list()\n",
        "    nombres= list()\n",
        "\n",
        "  # Regresión logística\n",
        "    modelos.append( LogisticRegression(solver='liblinear') )\n",
        "    nombres.append('RL')\n",
        "\n",
        "  # Arbol de decisión\n",
        "    modelos.append(DecisionTreeClassifier())\n",
        "    nombres.append('AD')\n",
        "\n",
        "\n",
        "  # Bosque aleatorio\n",
        "    modelos.append(RandomForestClassifier())\n",
        "    nombres.append('BA')\n",
        "\n",
        "    return modelos, nombres"
      ]
    },
    {
      "cell_type": "markdown",
      "metadata": {
        "id": "Zlm8m8LDP26g"
      },
      "source": [
        "b.  En cada iteración deben calcularse todas las siguientes métricas: accuracy, precision, \n",
        "recall, f1-score y Gmean. Todas estas métricas deben ser funciones que tú mismo debes \n",
        "definir (Es decir, no usar las funciones de dichas métricas que te proporciona scikit-learn. \n",
        "Sin embargo, sí puedes usar la información regresada por el método confusion_matrix() \n",
        "de scikit-learn para definir las métricas). "
      ]
    },
    {
      "cell_type": "code",
      "execution_count": 18,
      "metadata": {
        "id": "7KXnlNzAC69Y"
      },
      "outputs": [],
      "source": [
        "def mi_accuracy(yreal, ypred):\n",
        "    tn, fp, fn, tp = confusion_matrix(yreal, ypred).ravel()\n",
        "    accuracy = (tp+tn)/(tp+tn+fp+fn)\n",
        "    return accuracy\n",
        "\n",
        "\n",
        "\n",
        "def mi_precision(yreal, ypred):\n",
        "    tn, fp, fn, tp = confusion_matrix(yreal, ypred).ravel()\n",
        "    precision = tp/(tp+fp)\n",
        "    return precision\n",
        "\n",
        "\n",
        "\n",
        "def mi_recall(yreal, ypred):\n",
        "    tn, fp, fn, tp = confusion_matrix(yreal, ypred).ravel()\n",
        "    recall = tp/(tp+fn)\n",
        "    return recall\n",
        "\n",
        "def mi_f1score(yreal, ypred):\n",
        "    tn, fp, fn, tp = confusion_matrix(yreal, ypred).ravel()\n",
        "    f1score = (2*tp)/((2*tp)+fp+fn)\n",
        "    return f1score\n",
        "\n",
        "def mi_gmean(yreal, ypred):\n",
        "    tn, fp, fn, tp = confusion_matrix(yreal, ypred).ravel()\n",
        "    recall = tp / (tp + fn)\n",
        "    precision = tp / (tp + fp)\n",
        "    gmean = np.sqrt(recall * precision)\n",
        "    return gmean\n"
      ]
    },
    {
      "cell_type": "markdown",
      "metadata": {
        "id": "SS325BcfP26h"
      },
      "source": [
        "c.Usar validación cruzada estratificada con 5 particiones y con 3 repeticiones. "
      ]
    },
    {
      "cell_type": "raw",
      "metadata": {
        "id": "wCtMh-vhP26h"
      },
      "source": [
        "#Validacion Cruzada\n",
        "modelos, nombres = getModelos() #Comparacion de modelos\n",
        "resultados = list()   \n",
        "\n",
        "#Entrenamiento\n",
        "for i in range(len(modelos)):\n",
        "    kfold = RepeatedStratifiedKFold(n_splits=5, n_repeats=3)\n",
        "    \n",
        "    pipeline = Pipeline(steps=[('ct', columnasTransformer), ('m',modelos[i])])\n",
        "    \n",
        "    mismetricas = {\"accuracy\": make_scorer(mi_accuracy),\"precision\": make_scorer(mi_precision),\n",
        "                   \"recall\": make_scorer(mi_recall),\"f1score\": make_scorer(mi_f1score),\"gmean\": make_scorer(mi_gmean)}\n",
        "    \n",
        "    resultadosOU = cross_validate(pipeline, X_train, y_train, scoring=mismetricas, cv=kfold, return_train_score=True)\n",
        "\n",
        "\n",
        "    resultados.append(resultadosOU)\n",
        "    print(\"Test \\n\")\n",
        "    print('%s:\\nmean Accuracy: %.3f (%.4f)\\nmean Precision: %.3f (%.4f)\\nmean Recall: %.3f (%.4f)\\nmean F1score: %.3f (%.4f)\\nGmean: %.3f (%.4f)\\n' % (nombres[i],\n",
        "                                                                         np.mean(resultadosOU['test_accuracy']),\n",
        "                                                                         np.std(resultadosOU['test_accuracy']), \n",
        "                                                                         np.mean(resultadosOU['test_precision']),\n",
        "                                                                         np.std(resultadosOU['test_precision']), \n",
        "                                                                         np.mean(resultadosOU['test_recall']),\n",
        "                                                                         np.std(resultadosOU['test_recall']),\n",
        "                                                                         np.mean(resultadosOU['test_f1score']),\n",
        "                                                                         np.std(resultadosOU['test_f1score']),\n",
        "                                                                         np.mean(resultadosOU['test_gmean']),\n",
        "                                                                         np.std(resultadosOU['test_gmean'])\n",
        "                                                                         ))\n",
        "\n",
        "    print(\"Train \\n\")\n",
        "    print('%s:\\nmean Accuracy: %.3f (%.4f)\\nmean Precision: %.3f (%.4f)\\nmean Recall: %.3f (%.4f)\\nmean F1score: %.3f (%.4f)\\nGmean: %.3f (%.4f)\\n' % (nombres[i],\n",
        "                                                                          np.mean(resultadosOU['train_accuracy']),\n",
        "                                                                          np.std(resultadosOU['train_accuracy']), \n",
        "                                                                          np.mean(resultadosOU['train_precision']),\n",
        "                                                                          np.std(resultadosOU['train_precision']), \n",
        "                                                                          np.mean(resultadosOU['train_recall']),\n",
        "                                                                          np.std(resultadosOU['train_recall']),\n",
        "                                                                          np.mean(resultadosOU['train_f1score']),\n",
        "                                                                          np.std(resultadosOU['train_f1score']),\n",
        "                                                                          np.mean(resultadosOU['train_gmean']),\n",
        "                                                                          np.std(resultadosOU['train_gmean'])\n",
        "                                                                          ))"
      ]
    },
    {
      "cell_type": "code",
      "execution_count": 19,
      "metadata": {
        "colab": {
          "base_uri": "https://localhost:8080/"
        },
        "id": "-p3EcGx-P26h",
        "outputId": "379a4616-740b-40ba-cc0c-b2ce315bd304"
      },
      "outputs": [
        {
          "output_type": "stream",
          "name": "stdout",
          "text": [
            "Prueba \n",
            "\n",
            "RL:\n",
            "mean Accuracy: 0.761 (0.0266)\n",
            "mean Precision: 0.798 (0.0217)\n",
            "mean Recall: 0.884 (0.0324)\n",
            "mean F1score: 0.838 (0.0188)\n",
            "Gmean: 0.839 (0.0191)\n",
            "\n",
            "Entrenamiento \n",
            "\n",
            "RL:\n",
            "mean Accuracy: 0.795 (0.0071)\n",
            "mean Precision: 0.818 (0.0076)\n",
            "mean Recall: 0.910 (0.0068)\n",
            "mean F1score: 0.862 (0.0045)\n",
            "Gmean: 0.863 (0.0044)\n",
            "\n",
            "Prueba \n",
            "\n",
            "AD:\n",
            "mean Accuracy: 0.683 (0.0320)\n",
            "mean Precision: 0.778 (0.0211)\n",
            "mean Recall: 0.767 (0.0413)\n",
            "mean F1score: 0.772 (0.0260)\n",
            "Gmean: 0.772 (0.0260)\n",
            "\n",
            "Entrenamiento \n",
            "\n",
            "AD:\n",
            "mean Accuracy: 1.000 (0.0000)\n",
            "mean Precision: 1.000 (0.0000)\n",
            "mean Recall: 1.000 (0.0000)\n",
            "mean F1score: 1.000 (0.0000)\n",
            "Gmean: 1.000 (0.0000)\n",
            "\n",
            "Prueba \n",
            "\n",
            "BA:\n",
            "mean Accuracy: 0.753 (0.0216)\n",
            "mean Precision: 0.777 (0.0163)\n",
            "mean Recall: 0.907 (0.0272)\n",
            "mean F1score: 0.837 (0.0148)\n",
            "Gmean: 0.839 (0.0152)\n",
            "\n",
            "Entrenamiento \n",
            "\n",
            "BA:\n",
            "mean Accuracy: 1.000 (0.0000)\n",
            "mean Precision: 1.000 (0.0000)\n",
            "mean Recall: 1.000 (0.0000)\n",
            "mean F1score: 1.000 (0.0000)\n",
            "Gmean: 1.000 (0.0000)\n",
            "\n"
          ]
        }
      ],
      "source": [
        "#Validacion cruzada estratificada con 5 particiones y 3 repeticiones, etablecidas en el ciclo for \n",
        "modelos, nombres = getModelos()\n",
        "resultados = list()   \n",
        "resultadosOU = list()\n",
        "resultadoRecallTrain = list()\n",
        "\n",
        "#Entrenamiento\n",
        "for i in range(len(modelos)):\n",
        "    kfold = RepeatedStratifiedKFold(n_splits=5, n_repeats=3)\n",
        "    \n",
        "    pipeline = Pipeline(steps=[('ct',col_trans),('m',modelos[i])])\n",
        "    mismetricas = {\n",
        "      \"accuracy\": make_scorer(mi_accuracy),\n",
        "      \"precision\": make_scorer(mi_precision),\n",
        "      \"recall\": make_scorer(mi_recall),\n",
        "      \"f1score\": make_scorer(mi_f1score),\n",
        "      \"gmean\": make_scorer(mi_gmean)\n",
        "    }\n",
        "    \n",
        "    resultadosOU = cross_validate(pipeline, Xtrain, ytrain, scoring=mismetricas, cv=kfold, return_train_score=True)\n",
        "    resultados.append(resultadosOU)\n",
        "    \n",
        "    print(\"Prueba \\n\") \n",
        "    print('%s:\\nmean Accuracy: %.3f (%.4f)\\nmean Precision: %.3f (%.4f)\\nmean Recall: %.3f (%.4f)\\nmean F1score: %.3f (%.4f)\\nGmean: %.3f (%.4f)\\n' % (nombres[i],\n",
        "                                                                          np.mean(resultadosOU['test_accuracy']), np.std(resultadosOU['test_accuracy']), \n",
        "                                                                          np.mean(resultadosOU['test_precision']),np.std(resultadosOU['test_precision']), \n",
        "                                                                          np.mean(resultadosOU['test_recall']),np.std(resultadosOU['test_recall']),\n",
        "                                                                          np.mean(resultadosOU['test_f1score']),np.std(resultadosOU['test_f1score']),\n",
        "                                                                          np.mean(resultadosOU['test_gmean']),np.std(resultadosOU['test_gmean'])\n",
        "                                                                          ))\n",
        "    print(\"Entrenamiento \\n\")\n",
        "    print('%s:\\nmean Accuracy: %.3f (%.4f)\\nmean Precision: %.3f (%.4f)\\nmean Recall: %.3f (%.4f)\\nmean F1score: %.3f (%.4f)\\nGmean: %.3f (%.4f)\\n' % (nombres[i], \n",
        "                                                                          np.mean(resultadosOU['train_accuracy']), np.std(resultadosOU['train_accuracy']),  \n",
        "                                                                          np.mean(resultadosOU['train_precision']), np.std(resultadosOU['train_precision']), \n",
        "                                                                          np.mean(resultadosOU['train_recall']), np.std(resultadosOU['train_recall']),\n",
        "                                                                          np.mean(resultadosOU['train_f1score']), np.std(resultadosOU['train_f1score']), \n",
        "                                                                          np.mean(resultadosOU['train_gmean']), np.std(resultadosOU['train_gmean']) ))\n",
        "    \n",
        "    resultadoRecallTrain.append(resultadosOU['test_recall'])\n"
      ]
    },
    {
      "cell_type": "code",
      "execution_count": 20,
      "metadata": {
        "colab": {
          "base_uri": "https://localhost:8080/"
        },
        "id": "QnNhPFERP26h",
        "outputId": "02e37efe-8341-4953-e8e5-d9d50582bf2e"
      },
      "outputs": [
        {
          "output_type": "stream",
          "name": "stdout",
          "text": [
            "Validación cruzada para datos de validación\n",
            "RL:\n",
            "Accuracy: 0.731 (0.0704)\n",
            "Precision: 0.782 (0.0410)\n",
            "Recall: 0.854 (0.0806)\n",
            "F1-Score: 0.815 (0.0530)\n",
            "Gmean: 0.817 (0.0536)\n",
            "\n",
            "AD:\n",
            "Accuracy: 0.644 (0.0512)\n",
            "Precision: 0.755 (0.0442)\n",
            "Recall: 0.737 (0.0918)\n",
            "F1-Score: 0.741 (0.0489)\n",
            "Gmean: 0.743 (0.0469)\n",
            "\n",
            "BA:\n",
            "Accuracy: 0.684 (0.0569)\n",
            "Precision: 0.730 (0.0369)\n",
            "Recall: 0.873 (0.0619)\n",
            "F1-Score: 0.794 (0.0392)\n",
            "Gmean: 0.798 (0.0400)\n",
            "\n"
          ]
        },
        {
          "output_type": "execute_result",
          "data": {
            "text/plain": [
              "[array([0.9047619 , 0.9047619 , 0.80952381, 0.80952381, 0.80952381,\n",
              "        0.9047619 , 0.80952381, 0.85714286, 0.80952381, 1.        ,\n",
              "        0.9047619 , 0.66666667, 0.76190476, 0.9047619 , 0.95238095]),\n",
              " array([0.66666667, 0.80952381, 0.76190476, 0.80952381, 0.71428571,\n",
              "        0.80952381, 0.85714286, 0.61904762, 0.71428571, 0.85714286,\n",
              "        0.52380952, 0.76190476, 0.80952381, 0.66666667, 0.66666667]),\n",
              " array([0.85714286, 0.95238095, 0.85714286, 0.85714286, 0.85714286,\n",
              "        0.9047619 , 0.85714286, 0.9047619 , 0.80952381, 0.95238095,\n",
              "        0.9047619 , 0.71428571, 0.80952381, 0.9047619 , 0.95238095])]"
            ]
          },
          "metadata": {},
          "execution_count": 20
        }
      ],
      "source": [
        "# obteniendo valor de las metricas y resultados de prueba\n",
        "import warnings \n",
        "resultadosCVTest = list()\n",
        "warnings.filterwarnings(\"ignore\") \n",
        "\n",
        "print( \"Validación cruzada para datos de validación\" )\n",
        "resultadoRecallTest = list()\n",
        "for i in range(len(modelos)):\n",
        "    kflod2 = RepeatedStratifiedKFold( n_splits=5, n_repeats=3, random_state=0 )  \n",
        "    pipeline2 = Pipeline(steps=[('ct', col_trans), ('m',modelos[i])])\n",
        "    resultadosCVTest = cross_validate(pipeline2, Xtest, ytest, scoring=mismetricas, cv= kflod2)\n",
        "\n",
        "    print('%s:\\nAccuracy: %.3f (%.4f)\\nPrecision: %.3f (%.4f)\\nRecall: %.3f (%.4f)\\nF1-Score: %.3f (%.4f)\\nGmean: %.3f (%.4f)\\n' % (nombres[i],\n",
        "                                                                            np.mean(resultadosCVTest['test_accuracy']),\n",
        "                                                                            np.std(resultadosCVTest['test_accuracy']), \n",
        "                                                                            np.mean(resultadosCVTest['test_precision']),\n",
        "                                                                            np.std(resultadosCVTest['test_precision']),                                                                           \n",
        "                                                                            np.mean(resultadosCVTest['test_recall']),\n",
        "                                                                            np.std(resultadosCVTest['test_recall']),\n",
        "                                                                            np.mean(resultadosCVTest['test_f1score']),\n",
        "                                                                            np.std(resultadosCVTest['test_f1score']),                                                                           \n",
        "                                                                            np.mean(resultadosCVTest['test_gmean']),\n",
        "                                                                            np.std(resultadosCVTest['test_gmean']),  \n",
        "                                                                            ))\n",
        "    resultadoRecallTest.append(resultadosCVTest['test_recall'])            \n",
        "\n",
        "\n",
        "\n",
        "resultadoRecallTest"
      ]
    },
    {
      "cell_type": "markdown",
      "metadata": {
        "id": "yvLqNtpXP26h"
      },
      "source": [
        "d. Imprimir el valor de todas estas métricas, tanto para los datos de entrenamiento, como \n",
        "para los de validación. Así como los diagramas de caja y bigotes de los tres modelos con la \n",
        "métrica “recall”. ¿Alguno de los modelos está subentrenado o sobreentrenado? Justifica tu \n",
        "respuesta. "
      ]
    },
    {
      "cell_type": "code",
      "execution_count": 21,
      "metadata": {
        "colab": {
          "base_uri": "https://localhost:8080/",
          "height": 1000
        },
        "id": "SWrjXsmmP26h",
        "outputId": "5de9f7d6-d2bd-487a-d591-f3eba9fccf8c"
      },
      "outputs": [
        {
          "output_type": "display_data",
          "data": {
            "text/plain": [
              "<Figure size 1440x1440 with 1 Axes>"
            ],
            "image/png": "[encoded data removed]"
          },
          "metadata": {}
        },
        {
          "output_type": "display_data",
          "data": {
            "text/plain": [
              "<Figure size 1440x1440 with 1 Axes>"
            ],
            "image/png": "[encoded data removed]"
          },
          "metadata": {}
        }
      ],
      "source": [
        "# Imprimiendo la métrica recall en diagrama de caja - Datos de entrenamiento\n",
        "plt.boxplot(resultadoRecallTrain, labels=nombres, showmeans=True)\n",
        "plt.show()\n",
        "\n",
        "# Imprimiendo la métrica recall en diagrama de caja - Datos de validación\n",
        "plt.boxplot(resultadoRecallTest, labels=nombres, showmeans=True)\n",
        "plt.show()"
      ]
    },
    {
      "cell_type": "markdown",
      "metadata": {
        "id": "UZr9YsKoP26i"
      },
      "source": [
        "e.i.  Obtener las curvas de aprendizaje (learning_curve) en la cual se va incrementando \n",
        "el tamaño de la muestra para el modelo de regresión Logística con su \n",
        "hiperparámetros predeterminados. Utilizar al menos 20 puntos en la partición de \n",
        "los conjuntos de entrenamiento y la métrica “f1-score”, como evaluación del \n",
        "desempeño de dicha función “learning_curve()”.  "
      ]
    },
    {
      "cell_type": "code",
      "execution_count": 22,
      "metadata": {
        "id": "03nzRkmfP26i"
      },
      "outputs": [],
      "source": [
        "#los diagramas de caja los copiamos del ejercicio \n",
        "\n",
        "#Esta es la funcion de ploteo que utilizarremos para cada vez que se requiera imprimir una curva de aprendizaje en cualquier parte dle ejercicio\n",
        "def mi_LearningCurvePlot(train_sizes, train_scores, val_scores):\n",
        "    train_mean = np.mean(train_scores, axis=1) \n",
        "    train_std = np.std(train_scores, axis=1) \n",
        "    val_mean = np.mean(val_scores, axis=1) \n",
        "    val_std = np.std(val_scores, axis=1) \n",
        "# Graficamos las curvas de aprendizaje incluyendo una región indicando la desviación estándar. \n",
        "    plt.figure(figsize=(7,6)) \n",
        "    plt.plot(train_sizes, train_mean, color='blue', marker='o', markersize=5, label='Training') \n",
        "    plt.fill_between(train_sizes, train_mean + train_std, train_mean - train_std, alpha=0.1, color='blue')  \n",
        "    plt.plot(train_sizes, val_mean, color='red', marker='+', markersize=5, linestyle='--', label='Validation') \n",
        "    plt.fill_between(train_sizes, val_mean + val_std, val_mean - val_std, alpha=0.1, color='red')  \n",
        "    plt.title('Curvas de Aprendizaje incrementando el tamaño de la muestra') \n",
        "    plt.xlabel('Tamaño del conjunto de entrenamiento') \n",
        "    plt.ylabel('Exactitud (accuracy)') \n",
        "    plt.grid() \n",
        "    plt.legend(loc='lower left') \n",
        "    plt.show()\n",
        "\n",
        "def mi_ModeloYCurvas(Xin): \n",
        "#metodo de regresion Logistica\n",
        "    modelo_rl = LogisticRegression(max_iter=2500, random_state=1) \n",
        "    mi_pipe = Pipeline(steps=[(\"PreparaInfo\", col_trans),(\"LR\", modelo_rl)])\n",
        "    mi_kfold = RepeatedStratifiedKFold(n_splits=5, n_repeats=3, random_state=7)  \n",
        "    delta_train_sz = np.linspace(0.1, 1.0, 40) \n",
        "    tr_sizes, tr_scores, val_scores = learning_curve(estimator = mi_pipe ,    \n",
        "                                                        X = Xin,\n",
        "                                                        y = ytrain,\n",
        "                                                        cv = mi_kfold ,\n",
        "                                                        train_sizes = delta_train_sz ,\n",
        "                                                        random_state=10,\n",
        "                                                        scoring=make_scorer(mi_f1score))\n",
        "\n",
        "    mi_LearningCurvePlot(tr_sizes, tr_scores, val_scores)"
      ]
    },
    {
      "cell_type": "code",
      "execution_count": 23,
      "metadata": {
        "colab": {
          "base_uri": "https://localhost:8080/",
          "height": 428
        },
        "id": "rTSlH0QFP26i",
        "outputId": "8c9952c9-907f-4b77-a452-8677b638c84d"
      },
      "outputs": [
        {
          "output_type": "stream",
          "name": "stdout",
          "text": [
            "Curvas de aprendizaje del modelo lineal:\n"
          ]
        },
        {
          "output_type": "display_data",
          "data": {
            "text/plain": [
              "<Figure size 504x432 with 1 Axes>"
            ],
            "image/png": "[encoded data removed]"
          },
          "metadata": {}
        }
      ],
      "source": [
        "#Graficamos las curvas de aprendizaje\n",
        "print('Curvas de aprendizaje del modelo lineal:')\n",
        "mi_ModeloYCurvas(Xtrain)"
      ]
    },
    {
      "cell_type": "markdown",
      "metadata": {
        "id": "o2gl-PT7P26i"
      },
      "source": [
        "##  Justificar la respuesta"
      ]
    },
    {
      "cell_type": "markdown",
      "metadata": {
        "id": "C5MGt8X2P26i"
      },
      "source": [
        "ii. Obtener las curvas de validación (validation_curve) en la cual se va incrementando la complejidad del hiperparámetro “max_depth” para el modelo de árbol de decisión con sus hiperparámetros predeterminados. Utilizar valores de máxima profundidad desde 1 hasta 20 y con la métrica “f1-score” para la evaluación del desempeño del modelo. \n"
      ]
    },
    {
      "cell_type": "code",
      "execution_count": 24,
      "metadata": {
        "id": "Fr7ED_FfP26i"
      },
      "outputs": [],
      "source": [
        "def fn_validation_curve (x_val,y_val,param_name,cv,scoring):\n",
        "    modelo = DecisionTreeClassifier()\n",
        "    pipe = Pipeline(steps=[(\"Preparainfo\",col_trans),(\"model\",modelo)])\n",
        "    rango_param = np.linspace(1, 20, 20,dtype=\"int\")\n",
        "    t_scores, v_scores = validation_curve(\n",
        "      estimator=pipe,\n",
        "      X=x_val,\n",
        "      y=y_val,\n",
        "      param_name=f\"model__{param_name}\",\n",
        "      param_range=rango_param,\n",
        "      cv=cv,\n",
        "      scoring=scoring,\n",
        "  )\n",
        "    return rango_param, t_scores, v_scores"
      ]
    },
    {
      "cell_type": "code",
      "execution_count": 25,
      "metadata": {
        "colab": {
          "base_uri": "https://localhost:8080/",
          "height": 509
        },
        "id": "sVBxMyUPP26i",
        "outputId": "5a978d94-f107-4949-faf5-5e755e769a3c"
      },
      "outputs": [
        {
          "output_type": "display_data",
          "data": {
            "text/plain": [
              "<Figure size 504x504 with 1 Axes>"
            ],
            "image/png": "[encoded data removed]"
          },
          "metadata": {}
        }
      ],
      "source": [
        "from scipy.stats import alpha\n",
        "param_range,train_score, validation_score = fn_validation_curve(Xtrain,ytrain,\"max_depth\",kfold,make_scorer(mi_f1score))\n",
        "train_mean = np.mean(train_score, axis=1)\n",
        "train_std = np.std(train_score, axis=1)\n",
        "test_mean = np.mean(validation_score, axis=1)\n",
        "test_std = np.std(validation_score, axis=1)\n",
        "\n",
        "plt.subplots(1, figsize=(7,7))\n",
        "plt.plot(param_range, train_mean, label=\"Training score\", color=\"black\")\n",
        "plt.plot(param_range, test_mean, label=\"Cross-validation score\", color=\"dimgrey\")\n",
        "\n",
        "plt.fill_between(param_range, train_mean - train_std, train_mean + train_std, color=\"green\",alpha=0.5)\n",
        "plt.fill_between(param_range, test_mean - test_std, test_mean + test_std, color=\"red\",alpha=0.5)\n",
        " \n",
        "plt.title(\"Validation Curve With Random Forest\")\n",
        "plt.xlabel(\"Number Of Trees\")\n",
        "plt.ylabel(\"F1 Score\")\n",
        "plt.tight_layout()\n",
        "plt.legend(loc=\"best\")\n",
        "plt.show()"
      ]
    },
    {
      "cell_type": "markdown",
      "metadata": {
        "id": "QwV73H5MP26j"
      },
      "source": [
        "iii. Obtener las curvas de aprendizaje (learning_curve) en la cual se va incrementando el tamaño de la muestra para el modelo de regresión bosque aleatorio (random forest) con su hiperparámetros predeterminados. Utilizar al menos 20 puntos en la partición de los conjuntos de entrenamiento y la métrica “recall”, como evaluación del desempeño del modelo. "
      ]
    },
    {
      "cell_type": "code",
      "execution_count": 26,
      "metadata": {
        "id": "3H5IMI7tP26j"
      },
      "outputs": [],
      "source": [
        "def mi_ModeloYCurvas_RF(Xin, Yin, param_name, cv_entrada, scoring):\n",
        "    modelo_BA = RandomForestClassifier()\n",
        "    mi_pipe = Pipeline(steps=[(\"PreparaInfo\", col_trans),(\"model\", modelo_BA)])       \n",
        "\n",
        "    rango = np.linspace(1, 20, 20, dtype=int)\n",
        "    t_scores, v_scores = validation_curve(estimator = mi_pipe, X=Xin, y=Yin, param_name=f\"model__{param_name}\", param_range=rango, cv=cv_entrada, scoring=scoring,)\n",
        "    return rango, t_scores, v_scores"
      ]
    },
    {
      "cell_type": "code",
      "execution_count": 27,
      "metadata": {
        "scrolled": true,
        "colab": {
          "base_uri": "https://localhost:8080/",
          "height": 509
        },
        "id": "cRlqthujP26j",
        "outputId": "c6877dd5-8c20-40b4-f6c8-bc9b5fce400c"
      },
      "outputs": [
        {
          "output_type": "display_data",
          "data": {
            "text/plain": [
              "<Figure size 504x504 with 1 Axes>"
            ],
            "image/png": "[encoded data removed]"
          },
          "metadata": {}
        }
      ],
      "source": [
        "from scipy.stats import alpha\n",
        "param_range,train_score, validation_score = mi_ModeloYCurvas_RF(Xtrain,ytrain,\"max_depth\",kfold,make_scorer(mi_f1score))\n",
        "train_mean = np.mean(train_score, axis=1)\n",
        "train_std = np.std(train_score, axis=1)\n",
        "test_mean = np.mean(validation_score, axis=1)\n",
        "test_std = np.std(validation_score, axis=1)\n",
        "\n",
        "plt.subplots(1, figsize=(7,7))\n",
        "plt.plot(param_range, train_mean, label=\"Training score\", color=\"black\")\n",
        "plt.plot(param_range, test_mean, label=\"Cross-validation score\", color=\"dimgrey\")\n",
        "\n",
        "plt.fill_between(param_range, train_mean - train_std, train_mean + train_std, color=\"green\",alpha=0.5)\n",
        "plt.fill_between(param_range, test_mean - test_std, test_mean + test_std, color=\"red\",alpha=0.5)\n",
        " \n",
        "plt.title(\"Validation Curve With Random Forest\")\n",
        "plt.xlabel(\"Number Of Trees\")\n",
        "plt.ylabel(\"F1 Score\")\n",
        "plt.tight_layout()\n",
        "plt.legend(loc=\"best\")\n",
        "plt.show()"
      ]
    },
    {
      "cell_type": "code",
      "execution_count": 28,
      "metadata": {
        "colab": {
          "base_uri": "https://localhost:8080/",
          "height": 356
        },
        "id": "br70Tj0qP26j",
        "outputId": "60a204f9-3564-4758-8e9d-7a1c3fb7b76d"
      },
      "outputs": [
        {
          "output_type": "error",
          "ename": "NameError",
          "evalue": "ignored",
          "traceback": [
            "\u001b[0;31m---------------------------------------------------------------------------\u001b[0m",
            "\u001b[0;31mNameError\u001b[0m                                 Traceback (most recent call last)",
            "\u001b[0;32m<ipython-input-28-bbb3e7830008>\u001b[0m in \u001b[0;36m<module>\u001b[0;34m\u001b[0m\n\u001b[1;32m     16\u001b[0m     \u001b[0mmi_LearningCurvePlot\u001b[0m\u001b[0;34m(\u001b[0m\u001b[0mtr_sizes\u001b[0m\u001b[0;34m,\u001b[0m \u001b[0mtr_scores\u001b[0m\u001b[0;34m,\u001b[0m \u001b[0mval_scores\u001b[0m\u001b[0;34m)\u001b[0m\u001b[0;34m\u001b[0m\u001b[0;34m\u001b[0m\u001b[0m\n\u001b[1;32m     17\u001b[0m \u001b[0;34m\u001b[0m\u001b[0m\n\u001b[0;32m---> 18\u001b[0;31m \u001b[0mmi_curvaRF\u001b[0m\u001b[0;34m(\u001b[0m\u001b[0mXtrain\u001b[0m\u001b[0;34m,\u001b[0m \u001b[0mytrain\u001b[0m\u001b[0;34m)\u001b[0m\u001b[0;34m\u001b[0m\u001b[0;34m\u001b[0m\u001b[0m\n\u001b[0m",
            "\u001b[0;32m<ipython-input-28-bbb3e7830008>\u001b[0m in \u001b[0;36mmi_curvaRF\u001b[0;34m(Xin, Yin)\u001b[0m\n\u001b[1;32m      4\u001b[0m     \u001b[0mmodeloBA\u001b[0m \u001b[0;34m=\u001b[0m \u001b[0mRandomForestClassifier\u001b[0m\u001b[0;34m(\u001b[0m\u001b[0;34m)\u001b[0m\u001b[0;34m\u001b[0m\u001b[0;34m\u001b[0m\u001b[0m\n\u001b[1;32m      5\u001b[0m     \u001b[0mmi_pipe\u001b[0m \u001b[0;34m=\u001b[0m \u001b[0mPipeline\u001b[0m\u001b[0;34m(\u001b[0m\u001b[0msteps\u001b[0m\u001b[0;34m=\u001b[0m\u001b[0;34m[\u001b[0m\u001b[0;34m(\u001b[0m\u001b[0;34m\"PreparaInfo\"\u001b[0m\u001b[0;34m,\u001b[0m \u001b[0mcol_trans\u001b[0m\u001b[0;34m)\u001b[0m\u001b[0;34m,\u001b[0m\u001b[0;34m(\u001b[0m\u001b[0;34m\"ModeloUSadoRandomForest\"\u001b[0m\u001b[0;34m,\u001b[0m \u001b[0mmodeloBA\u001b[0m\u001b[0;34m)\u001b[0m\u001b[0;34m]\u001b[0m\u001b[0;34m)\u001b[0m\u001b[0;34m\u001b[0m\u001b[0;34m\u001b[0m\u001b[0m\n\u001b[0;32m----> 6\u001b[0;31m     \u001b[0mmi_kfold\u001b[0m \u001b[0;34m=\u001b[0m \u001b[0mRepeatedStratifiedKFol\u001b[0m \u001b[0;31m#definicion de 20 puntos enla partición, con 20 valores entre el .1 y el  1d(n_splits=5, n_repeats=3, random_state=7)\u001b[0m\u001b[0;34m\u001b[0m\u001b[0;34m\u001b[0m\u001b[0m\n\u001b[0m\u001b[1;32m      7\u001b[0m     \u001b[0mdelta_train_sz\u001b[0m \u001b[0;34m=\u001b[0m \u001b[0mnp\u001b[0m\u001b[0;34m.\u001b[0m\u001b[0mlinspace\u001b[0m\u001b[0;34m(\u001b[0m\u001b[0;36m.1\u001b[0m\u001b[0;34m,\u001b[0m \u001b[0;36m1\u001b[0m\u001b[0;34m,\u001b[0m \u001b[0;36m20\u001b[0m\u001b[0;34m)\u001b[0m\u001b[0;34m\u001b[0m\u001b[0;34m\u001b[0m\u001b[0m\n\u001b[1;32m      8\u001b[0m     tr_sizes, tr_scores, val_scores = learning_curve(estimator = mi_pipe ,    \n",
            "\u001b[0;31mNameError\u001b[0m: name 'RepeatedStratifiedKFol' is not defined"
          ]
        }
      ],
      "source": [
        "#Definiendo curvas de aprendizaje\n",
        "def mi_curvaRF(Xin, Yin): \n",
        "#Aqui usamos la funcion para el random forest\n",
        "    modeloBA = RandomForestClassifier() \n",
        "    mi_pipe = Pipeline(steps=[(\"PreparaInfo\", col_trans),(\"ModeloUSadoRandomForest\", modeloBA)])\n",
        "    mi_kfold = RepeatedStratifiedKFol #definicion de 20 puntos enla partición, con 20 valores entre el .1 y el  1d(n_splits=5, n_repeats=3, random_state=7)  \n",
        "    delta_train_sz = np.linspace(.1, 1, 20)\n",
        "    tr_sizes, tr_scores, val_scores = learning_curve(estimator = mi_pipe ,    \n",
        "                                                        X = Xin,\n",
        "                                                        y = Yin,\n",
        "                                                        cv = mi_kfold ,\n",
        "                                                        train_sizes = delta_train_sz ,\n",
        "                                                        random_state=10,\n",
        "                                                        scoring=make_scorer(mi_recall)) \n",
        "\n",
        "    mi_LearningCurvePlot(tr_sizes, tr_scores, val_scores)\n",
        "\n",
        "mi_curvaRF(Xtrain, ytrain)"
      ]
    },
    {
      "cell_type": "markdown",
      "metadata": {
        "id": "Rv7KFq-mC7PS"
      },
      "source": [
        "#**Ejercicio-5.** Finalmente veamos la manera de mejorar los valores de los hiperparámetros de cada modelo, así como el problema del sobreentrenamiento de algunos de ellos. Para ello deberás usar el método GridSearchCV() de scikit-learn. "
      ]
    },
    {
      "cell_type": "markdown",
      "metadata": {
        "id": "RS8bKZsTP26j"
      },
      "source": [
        "a. Para el modelo de regresión logística realizar el entrenamiento buscando sus mejores hiperparámetros con GridSearchCV(). Los hiperparámetros que debes incluir en su búsqueda deben ser al menos los siguientes: C, solver, class_weight y penalty. En este caso deberás usar la métrica (scoring) “f1-score”. Imprime la mejor combinación de parámetros obtenidos, así como el valor del mejor desempeño (score) obtenido con la métrica f1. ¿Cuál es la utilidad de la métrica “f1-score”? Incluye tus conclusiones.\n",
        "\n",
        "NOTA: Toma en cuenta que no todas las combinaciones de “solver” y “penalty” son \n",
        "posibles, para que lo tomes en cuenta al momento de realizar la búsqueda. Revisa la documentación. "
      ]
    },
    {
      "cell_type": "code",
      "execution_count": 29,
      "metadata": {
        "id": "jaDj3kawC9B6",
        "scrolled": true,
        "colab": {
          "base_uri": "https://localhost:8080/"
        },
        "outputId": "cece1ba8-a5ed-43c7-808b-92b82c56316b"
      },
      "outputs": [
        {
          "output_type": "stream",
          "name": "stdout",
          "text": [
            "Best Score: 0.8414999603331077\n",
            "Best Parameter: {'model__C': 1, 'model__class_weight': None, 'model__penalty': 'l2', 'model__solver': 'newton-cg'}\n"
          ]
        }
      ],
      "source": [
        "modelo_g = LogisticRegression(max_iter=10000, random_state=1)\n",
        "mi_pipe_g = Pipeline(steps=[(\"PreparaInfo\", col_trans),(\"model\", modelo_g)])       \n",
        "mi_kfold_g = RepeatedStratifiedKFold(n_splits=5, n_repeats=3, random_state=7)\n",
        "model_c = [0.01, 0.1, 1, 10, 100, 1000]\n",
        "\n",
        "grid_param = [{'model__penalty': ['l1'], 'model__solver': [ 'saga'], 'model__class_weight':['balanced', None], 'model__C': model_c},\n",
        "              {'model__penalty': ['l2'], 'model__solver': ['newton-cg', 'lbfgs', 'liblinear', 'sag', 'saga'], 'model__class_weight':['balanced', None], 'model__C': model_c},\n",
        "              {'model__penalty': ['elasticnet'], 'model__solver': ['saga'], 'model__class_weight':['balanced', None], 'model__C': model_c, 'model__l1_ratio': [0.5]},\n",
        "              ]\n",
        "\n",
        "gd = GridSearchCV(estimator=mi_pipe_g, param_grid=grid_param, scoring='f1', cv=mi_kfold_g)\n",
        "gd.fit(Xtrain, np.ravel(ytrain))\n",
        "best_score = gd.best_score_\n",
        "best_param = gd.best_params_\n",
        "print(\"Best Score:\", best_score)\n",
        "print(\"Best Parameter:\", best_param)"
      ]
    },
    {
      "cell_type": "markdown",
      "metadata": {
        "id": "4tQxQROVC9Us"
      },
      "source": [
        "b. Con los mejores valores de los hiperparámetros encontrados con la métrica “f1-score” para el modelo de regresión logística, obtener las curvas de aprendizaje (learning curve), incrementando el tamaño del conjunto de entrenamiento al menos 20 veces. Si lo crees adecuado, puedes hacer los ajustes que consideres adecuados para mejorar el resultado y evitar el sobreentrenamiento o el subentrenamiento. "
      ]
    },
    {
      "cell_type": "code",
      "execution_count": 30,
      "metadata": {
        "colab": {
          "base_uri": "https://localhost:8080/",
          "height": 410
        },
        "id": "7gOerWuVP26k",
        "outputId": "dd8b53ca-8f24-4cd2-a470-e588414a5b5f"
      },
      "outputs": [
        {
          "output_type": "display_data",
          "data": {
            "text/plain": [
              "<Figure size 504x432 with 1 Axes>"
            ],
            "image/png": "[encoded data removed]"
          },
          "metadata": {}
        }
      ],
      "source": [
        "def fn_best_res (Xin, Yin, cs, penalizacion, resolutor):\n",
        "    modelo_lc = LogisticRegression(C=cs, solver=resolutor, penalty=penalizacion, max_iter=10000, random_state=1)\n",
        "    pipe_lc = Pipeline(steps=[(\"PreparaInfo\", col_trans),(\"RegresionLogistica\", modelo_lc)])\n",
        "    kfold_lc = RepeatedStratifiedKFold(n_splits=5, n_repeats=3, random_state=7)\n",
        "    train_size_lc = np.linspace(0.1, 1.0, 20)\n",
        "    tr_sizes, tr_scores, val_scores = learning_curve(estimator=pipe_lc, X = Xin, y = Yin, cv = kfold_lc, train_sizes = train_size_lc, random_state=10, scoring=make_scorer(mi_f1score))\n",
        "    mi_LearningCurvePlot(tr_sizes, tr_scores, val_scores)\n",
        "\n",
        "fn_best_res(Xtrain, ytrain, 0.1, 'l2', 'saga')"
      ]
    },
    {
      "cell_type": "markdown",
      "metadata": {
        "id": "6zR95dVgP26k"
      },
      "source": [
        "c. Para el modelo de árbol de decisión (decision tree) realizar el entrenamiento buscando sus mejores hiperparámetros con GridSearchCV(). Los hiperparámetros que debes incluir en su búsqueda deben ser al menos los siguientes: ccp_alpha, criterion, max_depth, min_samples_split y class_weight. En este caso deberás usar la métrica (scoring) “precision”. Imprime la mejor combinación de parámetros obtenidos, así como el valor del mejor desempeño (score) obtenido con la métrica “precision”. ¿Cuál es la utilidad de \n",
        "la métrica “precision”? Incluye tus conclusiones. "
      ]
    },
    {
      "cell_type": "code",
      "execution_count": 31,
      "metadata": {
        "colab": {
          "base_uri": "https://localhost:8080/"
        },
        "id": "TZPoW3aAP26k",
        "outputId": "3ffa8df0-c39d-4d29-dcb9-9db7e6d9d130"
      },
      "outputs": [
        {
          "output_type": "execute_result",
          "data": {
            "text/plain": [
              "GridSearchCV(cv=RepeatedStratifiedKFold(n_repeats=3, n_splits=5, random_state=7),\n",
              "             estimator=Pipeline(steps=[('PreparaInfo',\n",
              "                                        ColumnTransformer(remainder='passthrough',\n",
              "                                                          transformers=[('numerical',\n",
              "                                                                         Pipeline(steps=[('scalar',\n",
              "                                                                                          MinMaxScaler(feature_range=(1,\n",
              "                                                                                                                      2))),\n",
              "                                                                                         ('log',\n",
              "                                                                                          FunctionTransformer(func=<ufunc 'log'>))]),\n",
              "                                                                         ['duration',\n",
              "                                                                          'amount',\n",
              "                                                                          'age']),\n",
              "                                                                        ('categorical',\n",
              "                                                                         Pipelin...\n",
              "                                                                                                        handle_unknown='ignore'))]),\n",
              "                                                                         ['people_liable',\n",
              "                                                                          'foreign_worker',\n",
              "                                                                          'telephone'])])),\n",
              "                                       ('model', DecisionTreeClassifier())]),\n",
              "             param_grid={'model__ccp_alpha': [0.01, 0.001, 0.0001, 1e-05],\n",
              "                         'model__class_weight': ['balanced', None],\n",
              "                         'model__criterion': ['gini', 'entropy'],\n",
              "                         'model__max_depth': [2, 4, 6, 8, 10, 12],\n",
              "                         'model__min_samples_split': [2, 4, 6, 8, 10]},\n",
              "             scoring=make_scorer(mi_precision))"
            ]
          },
          "metadata": {},
          "execution_count": 31
        }
      ],
      "source": [
        "modelo_AD = DecisionTreeClassifier()\n",
        "pipe_dt = Pipeline(steps=[(\"PreparaInfo\", col_trans),(\"model\", modelo_AD)])\n",
        "kfold_dt = RepeatedStratifiedKFold(n_splits=5, n_repeats=3, random_state=7)  \n",
        "\n",
        "param_dt = {'model__ccp_alpha':[0.01, 0.001, .0001, .00001], \n",
        "            'model__criterion': ['gini', 'entropy'], \n",
        "            'model__max_depth':[2, 4, 6, 8, 10, 12], \n",
        "            'model__min_samples_split':[2, 4, 6,8,10],\n",
        "            'model__class_weight': ['balanced', None]}\n",
        "\n",
        "decision_tree = GridSearchCV (estimator =  pipe_dt, \n",
        "                            param_grid = param_dt,\n",
        "                            scoring = make_scorer(mi_precision),\n",
        "                            cv = kfold_dt)\n",
        "decision_tree.fit(Xtrain, np.ravel(ytrain))"
      ]
    },
    {
      "cell_type": "markdown",
      "metadata": {
        "id": "rA2B3DA5P26k"
      },
      "source": [
        "d. Con los mejores valores de los hiperparámetros encontrados con la métrica “precision” para el modelo de árbol de decisión, obtener las curvas de aprendizaje (learning curve), incrementando el tamaño del conjunto de entrenamiento al menos 20 veces. Si lo crees adecuado, puedes hacer los ajustes que consideres adecuados para mejorar el resultado y evitar el sobreentrenamiento o el subentrenamiento."
      ]
    },
    {
      "cell_type": "code",
      "execution_count": null,
      "metadata": {
        "id": "5-yveDsMP26k"
      },
      "outputs": [],
      "source": []
    },
    {
      "cell_type": "markdown",
      "metadata": {
        "id": "OXrAEBFzP26k"
      },
      "source": [
        "e. Para el modelo de bosque aleatorio (random forest) realizar el entrenamiento buscando sus mejores hiperparámetros con GridSearchCV(). Los hiperparámetros que debes incluir en su búsqueda deben ser al menos los siguientes: ccp_alpha, criterion, max_depth, min_samples_split y class_weight. En este caso deberás usar la métrica (scoring) “recall”. Imprime la mejor combinación de parámetros obtenidos, así como el valor del mejor desempeño (score) obtenido con la métrica “recall”. ¿Cuál es la utilidad de la métrica “recall”? Incluye tus conclusiones."
      ]
    },
    {
      "cell_type": "code",
      "execution_count": null,
      "metadata": {
        "id": "DeDPXir-P26k"
      },
      "outputs": [],
      "source": []
    },
    {
      "cell_type": "markdown",
      "metadata": {
        "id": "UuYz23mgP26k"
      },
      "source": [
        "f. Con los mejores valores de los hiperparámetros encontrados con la métrica “recall” para el modelo de bosque aleatorio, obtener las curvas de validación (validation curve), incrementando la complejidad del modelo a través del hiperparámetro “max_depth” con al menos 10 valores. Si lo crees adecuado, puedes hacer los ajustes que consideres adecuados para mejorar el resultado y evitar el sobreentrenamiento o el subentrenamiento. "
      ]
    },
    {
      "cell_type": "code",
      "execution_count": null,
      "metadata": {
        "id": "v_-GxcCQP26l"
      },
      "outputs": [],
      "source": []
    },
    {
      "cell_type": "code",
      "execution_count": null,
      "metadata": {
        "id": "nO0rKKyBP26l"
      },
      "outputs": [],
      "source": []
    },
    {
      "cell_type": "markdown",
      "metadata": {
        "id": "W2S7LI0NC9wE"
      },
      "source": [
        "#**Ejercicio-6.** \n",
        "Para cada uno de estos tres modelos, con las métricas que se consideraron en cada caso y usando el conjunto de Prueba que no has utilizado hasta ahora, obtener los modelos finales como se te indica a continuación. Deberás usar además como conjunto de entrenamiento el llamado modelo de entrenamiento “aumentado” que consiste en las datos que estuviste utilizando para entrenamiento y validación: \n",
        "\n",
        "\n",
        "a. Obtener el modelo de regresión logística con los mejores parámetros que hayas encontrado con la métrica f1-score utilizada. Imprimir el valor de dicha métrica e incluye tus conclusiones finales para este caso. Incluir un gráfico del árbol de decisión final obtenido."
      ]
    },
    {
      "cell_type": "code",
      "execution_count": null,
      "metadata": {
        "id": "x6uBleJUC_AU"
      },
      "outputs": [],
      "source": [
        "None"
      ]
    },
    {
      "cell_type": "markdown",
      "metadata": {
        "id": "n0P_AcyjC_Dh"
      },
      "source": [
        "b. Obtener el modelo de árbol de decisiones con los mejores parámetros que hayas encontrado con la métrica “precision” utilizada. Imprimir el valor de dicha métrica e incluye tus conclusiones finales para este caso. "
      ]
    },
    {
      "cell_type": "code",
      "execution_count": null,
      "metadata": {
        "id": "v5OrjgRWP26l"
      },
      "outputs": [],
      "source": []
    },
    {
      "cell_type": "markdown",
      "metadata": {
        "id": "K6EcAyoXP26l"
      },
      "source": [
        "c. Obtener el modelo de bosque aleatorio con los mejores parámetros que hayas \n",
        "encontrado con la métrica “recall” utilizada. Imprimir el valor de dicha métrica e incluye tus conclusiones finales para este caso."
      ]
    },
    {
      "cell_type": "code",
      "execution_count": null,
      "metadata": {
        "id": "o-rCiAXHP26l"
      },
      "outputs": [],
      "source": []
    },
    {
      "cell_type": "markdown",
      "metadata": {
        "id": "7ql_r2G-DB_m"
      },
      "source": [
        "###**Fin de la Actividad de la semana 6.**"
      ]
    }
  ],
  "metadata": {
    "colab": {
      "collapsed_sections": [],
      "provenance": []
    },
    "kernelspec": {
      "display_name": "mlenv",
      "language": "python",
      "name": "mlenv"
    },
    "language_info": {
      "codemirror_mode": {
        "name": "ipython",
        "version": 3
      },
      "file_extension": ".py",
      "mimetype": "text/x-python",
      "name": "python",
      "nbconvert_exporter": "python",
      "pygments_lexer": "ipython3",
      "version": "3.7.11"
    }
  },
  "nbformat": 4,
  "nbformat_minor": 0
}