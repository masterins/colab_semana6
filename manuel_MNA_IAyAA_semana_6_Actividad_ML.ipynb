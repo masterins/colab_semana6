{
  "cells": [
    {
      "cell_type": "markdown",
      "metadata": {
        "id": "VFj0sSM06dYa"
      },
      "source": [
        "#**Maestría en Inteligencia Artificial Aplicada**\n",
        "##**Curso: Inteligencia Artificial y Aprendizaje Automático**\n",
        "###Tecnológico de Monterrey\n",
        "###Prof Luis Eduardo Falcón Morales\n",
        "\n",
        "## **Adtividad de la Semana 6**\n",
        "###**Árboles de decisión y bosque aleatorio.**\n"
      ]
    },
    {
      "cell_type": "markdown",
      "metadata": {
        "id": "Qgrvy0RGB9XI"
      },
      "source": [
        "**Nombres y matrículas de los integrantes del equipo:**\n",
        "\n",
        "*   \n",
        "*   \n",
        "*   \n",
        "*   \n",
        "*   \n"
      ]
    },
    {
      "cell_type": "markdown",
      "metadata": {
        "id": "FrJ2ahMODVj1"
      },
      "source": [
        "En cada sección deberás incluir todas las líneas de código necesarias para responder a cada uno de los ejercicios."
      ]
    },
    {
      "cell_type": "code",
      "execution_count": 34,
      "metadata": {
        "id": "exXsscs-Dh-2"
      },
      "outputs": [],
      "source": [
        "# Incluye aquí todos módulos, librerías y paquetes que requieras.\n",
        "import pandas as pd\n",
        "import numpy as np\n",
        "from google.colab import drive\n",
        "import matplotlib.pyplot as plt \n",
        "import seaborn as sns\n",
        "from sklearn.model_selection import train_test_split\n",
        "from sklearn.pipeline import Pipeline\n",
        "from sklearn.preprocessing import MinMaxScaler, OneHotEncoder, StandardScaler\n",
        "from sklearn.preprocessing import FunctionTransformer\n",
        "from sklearn.impute import SimpleImputer\n",
        "from sklearn.tree import DecisionTreeClassifier\n",
        "from sklearn.ensemble import RandomForestClassifier \n",
        "from sklearn.linear_model import LogisticRegression, Lasso, Ridge, ElasticNet\n",
        "from sklearn.model_selection import RepeatedStratifiedKFold\n",
        "from sklearn.model_selection import cross_val_score\n",
        "from sklearn.compose import ColumnTransformer\n",
        "from sklearn.metrics import confusion_matrix\n",
        "from sklearn.metrics import classification_report, make_scorer\n",
        "from sklearn.model_selection import  cross_validate,  RepeatedStratifiedKFold\n",
        "from sklearn.model_selection import GridSearchCV\n",
        "from sklearn.metrics import confusion_matrix\n",
        "import warnings\n",
        "from sklearn.compose import ColumnTransformer\n",
        "from sklearn.model_selection import learning_curve, validation_curve"
      ]
    },
    {
      "cell_type": "markdown",
      "metadata": {
        "id": "X25brD-gQdZM"
      },
      "source": [
        "#**Ejercicio-1.** "
      ]
    },
    {
      "cell_type": "code",
      "execution_count": 35,
      "metadata": {
        "colab": {
          "base_uri": "https://localhost:8080/"
        },
        "id": "3nU2GuWYCy6C",
        "outputId": "53a632f0-bab8-4f9f-96b4-996ad9f280e6"
      },
      "outputs": [
        {
          "output_type": "stream",
          "name": "stdout",
          "text": [
            "Drive already mounted at /content/drive; to attempt to forcibly remount, call drive.mount(\"/content/drive\", force_remount=True).\n"
          ]
        }
      ],
      "source": [
        "drive.mount('/content/drive')\n",
        "df= pd.read_csv('/content/drive/MyDrive/Colab Notebooks/SouthGermanCredit.asc',sep='\\s+')\n"
      ]
    },
    {
      "cell_type": "code",
      "execution_count": 36,
      "metadata": {
        "colab": {
          "base_uri": "https://localhost:8080/",
          "height": 299
        },
        "id": "0ulkqXVGCy97",
        "outputId": "fe5e8247-bedc-433a-ac1e-d7f4d5327561"
      },
      "outputs": [
        {
          "output_type": "execute_result",
          "data": {
            "text/plain": [
              "   status  duration  credit_history  purpose  amount  savings  \\\n",
              "0       1        18               4        2    1049        1   \n",
              "1       1         9               4        0    2799        1   \n",
              "2       2        12               2        9     841        2   \n",
              "3       1        12               4        0    2122        1   \n",
              "4       1        12               4        0    2171        1   \n",
              "\n",
              "   employment_duration  installment_rate  personal_status_sex  other_debtors  \\\n",
              "0                    2                 4                    2              1   \n",
              "1                    3                 2                    3              1   \n",
              "2                    4                 2                    2              1   \n",
              "3                    3                 3                    3              1   \n",
              "4                    3                 4                    3              1   \n",
              "\n",
              "   ...  property  age  other_installment_plans  housing  number_credits  job  \\\n",
              "0  ...         2   21                        3        1               1    3   \n",
              "1  ...         1   36                        3        1               2    3   \n",
              "2  ...         1   23                        3        1               1    2   \n",
              "3  ...         1   39                        3        1               2    2   \n",
              "4  ...         2   38                        1        2               2    2   \n",
              "\n",
              "   people_liable  telephone  foreign_worker  credit_risk  \n",
              "0              2          1               2            1  \n",
              "1              1          1               2            1  \n",
              "2              2          1               2            1  \n",
              "3              1          1               1            1  \n",
              "4              2          1               1            1  \n",
              "\n",
              "[5 rows x 21 columns]"
            ],
            "text/html": [
              "\n",
              "  <div id=\"df-b548a628-e83c-4282-be83-863d9fe0296d\">\n",
              "    <div class=\"colab-df-container\">\n",
              "      <div>\n",
              "<style scoped>\n",
              "    .dataframe tbody tr th:only-of-type {\n",
              "        vertical-align: middle;\n",
              "    }\n",
              "\n",
              "    .dataframe tbody tr th {\n",
              "        vertical-align: top;\n",
              "    }\n",
              "\n",
              "    .dataframe thead th {\n",
              "        text-align: right;\n",
              "    }\n",
              "</style>\n",
              "<table border=\"1\" class=\"dataframe\">\n",
              "  <thead>\n",
              "    <tr style=\"text-align: right;\">\n",
              "      <th></th>\n",
              "      <th>status</th>\n",
              "      <th>duration</th>\n",
              "      <th>credit_history</th>\n",
              "      <th>purpose</th>\n",
              "      <th>amount</th>\n",
              "      <th>savings</th>\n",
              "      <th>employment_duration</th>\n",
              "      <th>installment_rate</th>\n",
              "      <th>personal_status_sex</th>\n",
              "      <th>other_debtors</th>\n",
              "      <th>...</th>\n",
              "      <th>property</th>\n",
              "      <th>age</th>\n",
              "      <th>other_installment_plans</th>\n",
              "      <th>housing</th>\n",
              "      <th>number_credits</th>\n",
              "      <th>job</th>\n",
              "      <th>people_liable</th>\n",
              "      <th>telephone</th>\n",
              "      <th>foreign_worker</th>\n",
              "      <th>credit_risk</th>\n",
              "    </tr>\n",
              "  </thead>\n",
              "  <tbody>\n",
              "    <tr>\n",
              "      <th>0</th>\n",
              "      <td>1</td>\n",
              "      <td>18</td>\n",
              "      <td>4</td>\n",
              "      <td>2</td>\n",
              "      <td>1049</td>\n",
              "      <td>1</td>\n",
              "      <td>2</td>\n",
              "      <td>4</td>\n",
              "      <td>2</td>\n",
              "      <td>1</td>\n",
              "      <td>...</td>\n",
              "      <td>2</td>\n",
              "      <td>21</td>\n",
              "      <td>3</td>\n",
              "      <td>1</td>\n",
              "      <td>1</td>\n",
              "      <td>3</td>\n",
              "      <td>2</td>\n",
              "      <td>1</td>\n",
              "      <td>2</td>\n",
              "      <td>1</td>\n",
              "    </tr>\n",
              "    <tr>\n",
              "      <th>1</th>\n",
              "      <td>1</td>\n",
              "      <td>9</td>\n",
              "      <td>4</td>\n",
              "      <td>0</td>\n",
              "      <td>2799</td>\n",
              "      <td>1</td>\n",
              "      <td>3</td>\n",
              "      <td>2</td>\n",
              "      <td>3</td>\n",
              "      <td>1</td>\n",
              "      <td>...</td>\n",
              "      <td>1</td>\n",
              "      <td>36</td>\n",
              "      <td>3</td>\n",
              "      <td>1</td>\n",
              "      <td>2</td>\n",
              "      <td>3</td>\n",
              "      <td>1</td>\n",
              "      <td>1</td>\n",
              "      <td>2</td>\n",
              "      <td>1</td>\n",
              "    </tr>\n",
              "    <tr>\n",
              "      <th>2</th>\n",
              "      <td>2</td>\n",
              "      <td>12</td>\n",
              "      <td>2</td>\n",
              "      <td>9</td>\n",
              "      <td>841</td>\n",
              "      <td>2</td>\n",
              "      <td>4</td>\n",
              "      <td>2</td>\n",
              "      <td>2</td>\n",
              "      <td>1</td>\n",
              "      <td>...</td>\n",
              "      <td>1</td>\n",
              "      <td>23</td>\n",
              "      <td>3</td>\n",
              "      <td>1</td>\n",
              "      <td>1</td>\n",
              "      <td>2</td>\n",
              "      <td>2</td>\n",
              "      <td>1</td>\n",
              "      <td>2</td>\n",
              "      <td>1</td>\n",
              "    </tr>\n",
              "    <tr>\n",
              "      <th>3</th>\n",
              "      <td>1</td>\n",
              "      <td>12</td>\n",
              "      <td>4</td>\n",
              "      <td>0</td>\n",
              "      <td>2122</td>\n",
              "      <td>1</td>\n",
              "      <td>3</td>\n",
              "      <td>3</td>\n",
              "      <td>3</td>\n",
              "      <td>1</td>\n",
              "      <td>...</td>\n",
              "      <td>1</td>\n",
              "      <td>39</td>\n",
              "      <td>3</td>\n",
              "      <td>1</td>\n",
              "      <td>2</td>\n",
              "      <td>2</td>\n",
              "      <td>1</td>\n",
              "      <td>1</td>\n",
              "      <td>1</td>\n",
              "      <td>1</td>\n",
              "    </tr>\n",
              "    <tr>\n",
              "      <th>4</th>\n",
              "      <td>1</td>\n",
              "      <td>12</td>\n",
              "      <td>4</td>\n",
              "      <td>0</td>\n",
              "      <td>2171</td>\n",
              "      <td>1</td>\n",
              "      <td>3</td>\n",
              "      <td>4</td>\n",
              "      <td>3</td>\n",
              "      <td>1</td>\n",
              "      <td>...</td>\n",
              "      <td>2</td>\n",
              "      <td>38</td>\n",
              "      <td>1</td>\n",
              "      <td>2</td>\n",
              "      <td>2</td>\n",
              "      <td>2</td>\n",
              "      <td>2</td>\n",
              "      <td>1</td>\n",
              "      <td>1</td>\n",
              "      <td>1</td>\n",
              "    </tr>\n",
              "  </tbody>\n",
              "</table>\n",
              "<p>5 rows × 21 columns</p>\n",
              "</div>\n",
              "      <button class=\"colab-df-convert\" onclick=\"convertToInteractive('df-b548a628-e83c-4282-be83-863d9fe0296d')\"\n",
              "              title=\"Convert this dataframe to an interactive table.\"\n",
              "              style=\"display:none;\">\n",
              "        \n",
              "  <svg xmlns=\"http://www.w3.org/2000/svg\" height=\"24px\"viewBox=\"0 0 24 24\"\n",
              "       width=\"24px\">\n",
              "    <path d=\"M0 0h24v24H0V0z\" fill=\"none\"/>\n",
              "    <path d=\"M18.56 5.44l.94 2.06.94-2.06 2.06-.94-2.06-.94-.94-2.06-.94 2.06-2.06.94zm-11 1L8.5 8.5l.94-2.06 2.06-.94-2.06-.94L8.5 2.5l-.94 2.06-2.06.94zm10 10l.94 2.06.94-2.06 2.06-.94-2.06-.94-.94-2.06-.94 2.06-2.06.94z\"/><path d=\"M17.41 7.96l-1.37-1.37c-.4-.4-.92-.59-1.43-.59-.52 0-1.04.2-1.43.59L10.3 9.45l-7.72 7.72c-.78.78-.78 2.05 0 2.83L4 21.41c.39.39.9.59 1.41.59.51 0 1.02-.2 1.41-.59l7.78-7.78 2.81-2.81c.8-.78.8-2.07 0-2.86zM5.41 20L4 18.59l7.72-7.72 1.47 1.35L5.41 20z\"/>\n",
              "  </svg>\n",
              "      </button>\n",
              "      \n",
              "  <style>\n",
              "    .colab-df-container {\n",
              "      display:flex;\n",
              "      flex-wrap:wrap;\n",
              "      gap: 12px;\n",
              "    }\n",
              "\n",
              "    .colab-df-convert {\n",
              "      background-color: #E8F0FE;\n",
              "      border: none;\n",
              "      border-radius: 50%;\n",
              "      cursor: pointer;\n",
              "      display: none;\n",
              "      fill: #1967D2;\n",
              "      height: 32px;\n",
              "      padding: 0 0 0 0;\n",
              "      width: 32px;\n",
              "    }\n",
              "\n",
              "    .colab-df-convert:hover {\n",
              "      background-color: #E2EBFA;\n",
              "      box-shadow: 0px 1px 2px rgba(60, 64, 67, 0.3), 0px 1px 3px 1px rgba(60, 64, 67, 0.15);\n",
              "      fill: #174EA6;\n",
              "    }\n",
              "\n",
              "    [theme=dark] .colab-df-convert {\n",
              "      background-color: #3B4455;\n",
              "      fill: #D2E3FC;\n",
              "    }\n",
              "\n",
              "    [theme=dark] .colab-df-convert:hover {\n",
              "      background-color: #434B5C;\n",
              "      box-shadow: 0px 1px 3px 1px rgba(0, 0, 0, 0.15);\n",
              "      filter: drop-shadow(0px 1px 2px rgba(0, 0, 0, 0.3));\n",
              "      fill: #FFFFFF;\n",
              "    }\n",
              "  </style>\n",
              "\n",
              "      <script>\n",
              "        const buttonEl =\n",
              "          document.querySelector('#df-b548a628-e83c-4282-be83-863d9fe0296d button.colab-df-convert');\n",
              "        buttonEl.style.display =\n",
              "          google.colab.kernel.accessAllowed ? 'block' : 'none';\n",
              "\n",
              "        async function convertToInteractive(key) {\n",
              "          const element = document.querySelector('#df-b548a628-e83c-4282-be83-863d9fe0296d');\n",
              "          const dataTable =\n",
              "            await google.colab.kernel.invokeFunction('convertToInteractive',\n",
              "                                                     [key], {});\n",
              "          if (!dataTable) return;\n",
              "\n",
              "          const docLinkHtml = 'Like what you see? Visit the ' +\n",
              "            '<a target=\"_blank\" href=https://colab.research.google.com/notebooks/data_table.ipynb>data table notebook</a>'\n",
              "            + ' to learn more about interactive tables.';\n",
              "          element.innerHTML = '';\n",
              "          dataTable['output_type'] = 'display_data';\n",
              "          await google.colab.output.renderOutput(dataTable, element);\n",
              "          const docLink = document.createElement('div');\n",
              "          docLink.innerHTML = docLinkHtml;\n",
              "          element.appendChild(docLink);\n",
              "        }\n",
              "      </script>\n",
              "    </div>\n",
              "  </div>\n",
              "  "
            ]
          },
          "metadata": {},
          "execution_count": 36
        }
      ],
      "source": [
        "df.rename(columns = {\n",
        "    'laufkont':'status',\n",
        "    'laufzeit':'duration',\n",
        "    'moral':'credit_history',\n",
        "    'verw':'purpose',\n",
        "    'hoehe':'amount',\n",
        "    'sparkont':'savings',\n",
        "    'beszeit':'employment_duration',\n",
        "    'rate':'installment_rate',\n",
        "    'famges':'personal_status_sex',\n",
        "    'buerge':'other_debtors',\n",
        "    'wohnzeit':'present_residence',\n",
        "    'verm':'property',\n",
        "    'alter':'age',\n",
        "    'weitkred':'other_installment_plans',\n",
        "    'wohn':'housing',\n",
        "    'bishkred':'number_credits',\n",
        "    'beruf':'job',\n",
        "    'pers':'people_liable',\n",
        "    'telef':'telephone',\n",
        "    'gastarb':'foreign_worker',\n",
        "    'kredit':'credit_risk'\n",
        "}, inplace = True)\n",
        "df.head()"
      ]
    },
    {
      "cell_type": "markdown",
      "metadata": {
        "id": "xZhr2hkECzVv"
      },
      "source": [
        "#**Ejercicio-2.**"
      ]
    },
    {
      "cell_type": "code",
      "execution_count": 37,
      "metadata": {
        "id": "kGfAoOPkC1PP"
      },
      "outputs": [],
      "source": [
        "X = df.iloc[:,0:20]\n",
        "Y = df.iloc[:, -1]\n",
        "X_train, X_test, y_train, y_test = train_test_split(X, Y, test_size=0.15, stratify=Y, random_state=1)\n"
      ]
    },
    {
      "cell_type": "code",
      "execution_count": 38,
      "metadata": {
        "colab": {
          "base_uri": "https://localhost:8080/"
        },
        "id": "A93UQnOk5rjc",
        "outputId": "18b03886-c80a-481b-bf02-c6746f2a6374"
      },
      "outputs": [
        {
          "output_type": "execute_result",
          "data": {
            "text/plain": [
              "0.7"
            ]
          },
          "metadata": {},
          "execution_count": 38
        }
      ],
      "source": [
        "y_train.sum() / y_train.shape[0]"
      ]
    },
    {
      "cell_type": "markdown",
      "metadata": {
        "id": "NCunuooTC2W3"
      },
      "source": [
        "#**Ejercicio-3.**"
      ]
    },
    {
      "cell_type": "code",
      "execution_count": 39,
      "metadata": {
        "colab": {
          "base_uri": "https://localhost:8080/"
        },
        "id": "wJB2XqxO_mEy",
        "outputId": "1a4bf41f-7a73-40f6-d23a-e4eab9415a86"
      },
      "outputs": [
        {
          "output_type": "stream",
          "name": "stdout",
          "text": [
            "<class 'pandas.core.frame.DataFrame'>\n",
            "Int64Index: 850 entries, 655 to 555\n",
            "Data columns (total 20 columns):\n",
            " #   Column                   Non-Null Count  Dtype\n",
            "---  ------                   --------------  -----\n",
            " 0   status                   850 non-null    int64\n",
            " 1   duration                 850 non-null    int64\n",
            " 2   credit_history           850 non-null    int64\n",
            " 3   purpose                  850 non-null    int64\n",
            " 4   amount                   850 non-null    int64\n",
            " 5   savings                  850 non-null    int64\n",
            " 6   employment_duration      850 non-null    int64\n",
            " 7   installment_rate         850 non-null    int64\n",
            " 8   personal_status_sex      850 non-null    int64\n",
            " 9   other_debtors            850 non-null    int64\n",
            " 10  present_residence        850 non-null    int64\n",
            " 11  property                 850 non-null    int64\n",
            " 12  age                      850 non-null    int64\n",
            " 13  other_installment_plans  850 non-null    int64\n",
            " 14  housing                  850 non-null    int64\n",
            " 15  number_credits           850 non-null    int64\n",
            " 16  job                      850 non-null    int64\n",
            " 17  people_liable            850 non-null    int64\n",
            " 18  telephone                850 non-null    int64\n",
            " 19  foreign_worker           850 non-null    int64\n",
            "dtypes: int64(20)\n",
            "memory usage: 139.5 KB\n"
          ]
        }
      ],
      "source": [
        "#3a\n",
        "X_train.info()"
      ]
    },
    {
      "cell_type": "code",
      "execution_count": 40,
      "metadata": {
        "id": "YXlcSWA-C4Dj"
      },
      "outputs": [],
      "source": [
        "#Como no hay valores nulos, en este caso no hay imputaciones\n",
        "#Columnas categoricas\n",
        "df_categ = ['status','credit_history','purpose','savings','personal_status_sex','other_debtors','other_installment_plans','housing','telephone']\n",
        "#columnas discretas\n",
        "df_ord = ['employment_duration','installment_rate','present_residence','property','number_credits','job']\n",
        "#columnas numericas o cuantitativas\n",
        "df_num = ['duration','amount','age']\n",
        "#columnas binarias\n",
        "df_bin = ['people_liable','telephone','foreign_worker']"
      ]
    },
    {
      "cell_type": "code",
      "execution_count": 41,
      "metadata": {
        "colab": {
          "base_uri": "https://localhost:8080/",
          "height": 883
        },
        "id": "_pw9avQW9v2j",
        "outputId": "064e18c1-5b30-4a9d-8369-1f10253f0b01"
      },
      "outputs": [
        {
          "output_type": "display_data",
          "data": {
            "text/plain": [
              "<Figure size 1080x1080 with 9 Axes>"
            ],
            "image/png": "[encoded data removed]"
          },
          "metadata": {}
        }
      ],
      "source": [
        "#3b\n",
        "sns.set(rc={'figure.figsize':(15,15)}) #tama;o 20 en x y 20 en y\n",
        "#Numerica\n",
        "fig, axes = plt.subplots(3, 3)   \n",
        "for k in range(0,3):  \n",
        "  plt.subplot(3,3,k+1) \n",
        "\n",
        "  Transf0 = X_train[df_num].iloc[:,k].to_numpy().reshape(-1, 1)  #  En esta línea se debe asignar a Transf0 los valores de cada variable \"k\" sin transformar.\n",
        "  plt.hist(Transf0, bins=20) \n",
        "  plt.xlabel(df_num[k])\n",
        "  if k==0:\n",
        "    plt.ylabel('numerica')\n",
        "  \n",
        "  plt.subplot(3,3,k+4)    \n",
        "  Transf1 = np.sqrt(Transf0)       #  En esta línea se debe aplicar la raíz cuadrada a los valores de cada variable \"k\" sin transformar.\n",
        "  plt.hist(Transf1, bins=20)                      #  En este línea agrega el comando para obtener el histograma de Transf1 con 20 barras (bins).\n",
        "  plt.xlabel(df_num[k])\n",
        "  if k==0:\n",
        "    plt.ylabel('Raíz Cuadrada')\n",
        "\n",
        "  plt.subplot(3,3,k+7)    \n",
        "  Transf2 = np.log(Transf0)       #  En esta línea se debe aplicar la raíz cuadrada a los valores de cada variable \"k\" sin transformar.\n",
        "  plt.hist(Transf2, bins=20)                      #  En este línea agrega el comando para obtener el histograma de Transf1 con 20 barras (bins).\n",
        "  plt.xlabel(df_num[k])\n",
        "  if k==0:\n",
        "    plt.ylabel('Logaritmo')"
      ]
    },
    {
      "cell_type": "code",
      "execution_count": 42,
      "metadata": {
        "id": "NH7DFtpsJ_dN"
      },
      "outputs": [],
      "source": [
        "#3c\n",
        "num_pipeline = Pipeline(steps = [('scalar', MinMaxScaler(feature_range=(1,2))),('sqrt', FunctionTransformer(np.log))])\n",
        "columna_df_num = df_num\n",
        "\n",
        "categ_pipeline = Pipeline(steps = [('impModa', SimpleImputer(strategy='most_frequent')),('OneHotE', OneHotEncoder(drop='first', handle_unknown = 'ignore'))])\n",
        "columna_df_categ = df_categ\n",
        "\n",
        "bin_pipeline = Pipeline(steps = [('impModa', SimpleImputer(strategy='most_frequent')),('OneHotE', OneHotEncoder(drop='first', handle_unknown = 'ignore'))])\n",
        "columna_df_bin = df_bin\n",
        "\n",
        "columnasTransformer = ColumnTransformer(transformers = [('numpipe', num_pipeline, columna_df_num),\n",
        "                                                        ('catpipe', categ_pipeline, columna_df_categ),\n",
        "                                                        ('binpipe', bin_pipeline, columna_df_bin)],\n",
        "                                        remainder='passthrough')\n"
      ]
    },
    {
      "cell_type": "markdown",
      "metadata": {
        "id": "chqk9jIDC5Pq"
      },
      "source": [
        "#**Ejercicio-4.**"
      ]
    },
    {
      "cell_type": "code",
      "execution_count": 43,
      "metadata": {
        "id": "tYU4qpsHnZ3d"
      },
      "outputs": [],
      "source": [
        "def mi_recall(yreal, ypred):\n",
        "\n",
        "  vn, fp, fn, vp = confusion_matrix(yreal, ypred).ravel()\n",
        "  recall = vp/(vp+fn)\n",
        "  \n",
        "  return recall"
      ]
    },
    {
      "cell_type": "code",
      "execution_count": 44,
      "metadata": {
        "id": "j8SxbWUxmNLG"
      },
      "outputs": [],
      "source": [
        "def mi_gmean(yreal, ypred):\n",
        "     vn, fp, fn, vp = confusion_matrix(yreal, ypred).ravel()\n",
        "     recall = vp / (vp+fn)\n",
        "     especificidad = vn / (vn+fp)\n",
        "     gmean = np.sqrt(recall * especificidad)\n",
        "     \n",
        "     return gmean\n"
      ]
    },
    {
      "cell_type": "code",
      "execution_count": 45,
      "metadata": {
        "id": "UsKpgfJsBxt3"
      },
      "outputs": [],
      "source": [
        "def mi_accuracy(yreal, ypred):\n",
        "  vn, fp, fn, vp = confusion_matrix(yreal, ypred).ravel()\n",
        "  accuracy = (vp+vn) / (vp+vn+fp+fn)\n",
        "\n",
        "  return accuracy"
      ]
    },
    {
      "cell_type": "code",
      "execution_count": 46,
      "metadata": {
        "id": "7Fi1RZViDy7s"
      },
      "outputs": [],
      "source": [
        "def mi_f1score(yreal, ypred):\n",
        "  vn, fp, fn, vp = confusion_matrix(yreal, ypred).ravel()\n",
        "  f1score = (2*vp) / ((2*vp)+fp+fn)\n",
        "\n",
        "  return f1score\n",
        "  "
      ]
    },
    {
      "cell_type": "code",
      "execution_count": 47,
      "metadata": {
        "id": "liU1TrLcELDy"
      },
      "outputs": [],
      "source": [
        "def mi_precision(yreal, ypred):\n",
        "  vn, fp, fn, vp = confusion_matrix(yreal, ypred).ravel()\n",
        "  precision = vp / (vp+fp)\n",
        "\n",
        "  return precision"
      ]
    },
    {
      "cell_type": "code",
      "execution_count": 48,
      "metadata": {
        "id": "J2wixeky8dZh"
      },
      "outputs": [],
      "source": [
        "def get_models():\n",
        "  modelos = list()\n",
        "  nombres = list()\n",
        "\n",
        "  # LR - Regresión Logística:\n",
        "  modelos.append(LogisticRegression(solver='liblinear'))\n",
        "  nombres.append('LR')\n",
        "\n",
        "  # DT - Árbol de Decisión:\n",
        "  modelos.append(DecisionTreeClassifier())\n",
        "  nombres.append('DT')\n",
        "  \n",
        "  # BA - Bosque Aleatorio \n",
        "  modelos.append(RandomForestClassifier())\n",
        "  nombres.append('BA')\n",
        "  \n",
        "  \n",
        "  return modelos, nombres"
      ]
    },
    {
      "cell_type": "code",
      "execution_count": 49,
      "metadata": {
        "colab": {
          "base_uri": "https://localhost:8080/"
        },
        "id": "RBVSFwK4C6g9",
        "outputId": "c3796bb5-ea91-420d-c170-62cec6b81965"
      },
      "outputs": [
        {
          "output_type": "stream",
          "name": "stdout",
          "text": [
            "LR:\n",
            "Accuracy: 0.756 (0.0332)\n",
            "Precision: 0.794 (0.0256)\n",
            "Recall: 0.882 (0.0262)\n",
            "F1-Score: 0.835 (0.0218)\n",
            "Gmean: 0.636 (0.0622)\n",
            "\n",
            "DT:\n",
            "Accuracy: 0.692 (0.0237)\n",
            "Precision: 0.782 (0.0184)\n",
            "Recall: 0.777 (0.0269)\n",
            "F1-Score: 0.779 (0.0183)\n",
            "Gmean: 0.618 (0.0348)\n",
            "\n",
            "BA:\n",
            "Accuracy: 0.755 (0.0199)\n",
            "Precision: 0.777 (0.0150)\n",
            "Recall: 0.910 (0.0260)\n",
            "F1-Score: 0.838 (0.0137)\n",
            "Gmean: 0.595 (0.0398)\n",
            "\n"
          ]
        }
      ],
      "source": [
        "modelos, nombres = get_models()  # cargamos los modelos a comparar\n",
        "resultadosRecallTrain = list()   \n",
        "resultadosCVTrain = list()\n",
        "\n",
        "mismetricas = {'accuracy':make_scorer(mi_accuracy),'precision':make_scorer(mi_precision), 'recall':make_scorer(mi_recall),'f1-score':make_scorer(mi_f1score), 'gmean':make_scorer(mi_gmean)}\n",
        "\n",
        "for i in range(len(modelos)):\n",
        "  pipeline = Pipeline(steps=[('ct',columnasTransformer),('m',modelos[i])])\n",
        "  cv = RepeatedStratifiedKFold(n_splits=5, n_repeats=3, random_state=0)\n",
        "  resultadosCVTrain = cross_validate(pipeline, X_train,y_train, scoring=mismetricas, cv=cv)\n",
        "  resultadosRecallTrain.append(resultadosCVTrain['test_recall'])\n",
        "  print('%s:\\nAccuracy: %.3f (%.4f)\\nPrecision: %.3f (%.4f)\\nRecall: %.3f (%.4f)\\nF1-Score: %.3f (%.4f)\\nGmean: %.3f (%.4f)\\n' % (nombres[i],\n",
        "                                                                          np.mean(resultadosCVTrain['test_accuracy']),\n",
        "                                                                          np.std(resultadosCVTrain['test_accuracy']), \n",
        "                                                                          np.mean(resultadosCVTrain['test_precision']),\n",
        "                                                                          np.std(resultadosCVTrain['test_precision']),                                                                           \n",
        "                                                                          np.mean(resultadosCVTrain['test_recall']),\n",
        "                                                                          np.std(resultadosCVTrain['test_recall']),\n",
        "                                                                          np.mean(resultadosCVTrain['test_f1-score']),\n",
        "                                                                          np.std(resultadosCVTrain['test_f1-score']),                                                                           \n",
        "                                                                          np.mean(resultadosCVTrain['test_gmean']),\n",
        "                                                                          np.std(resultadosCVTrain['test_gmean']),  \n",
        "                                                                          ))"
      ]
    },
    {
      "cell_type": "code",
      "execution_count": 50,
      "metadata": {
        "colab": {
          "base_uri": "https://localhost:8080/"
        },
        "id": "x6ehaSP-Ue2-",
        "outputId": "0c8bbdce-bfc2-46c5-aed5-751bf0701df0"
      },
      "outputs": [
        {
          "output_type": "stream",
          "name": "stdout",
          "text": [
            "LR:\n",
            "Accuracy: 0.733 (0.0699)\n",
            "Precision: 0.783 (0.0402)\n",
            "Recall: 0.857 (0.0834)\n",
            "F1-Score: 0.817 (0.0531)\n",
            "Gmean: 0.611 (0.0919)\n",
            "\n",
            "DT:\n",
            "Accuracy: 0.620 (0.0738)\n",
            "Precision: 0.740 (0.0619)\n",
            "Recall: 0.714 (0.0952)\n",
            "F1-Score: 0.722 (0.0621)\n",
            "Gmean: 0.514 (0.1282)\n",
            "\n",
            "BA:\n",
            "Accuracy: 0.691 (0.0564)\n",
            "Precision: 0.734 (0.0382)\n",
            "Recall: 0.879 (0.0693)\n",
            "F1-Score: 0.799 (0.0386)\n",
            "Gmean: 0.426 (0.1929)\n",
            "\n"
          ]
        }
      ],
      "source": [
        "warnings.filterwarnings(\"ignore\") \n",
        "resultadosRecallTest = list()   \n",
        "resultadosCVTest = list()\n",
        "\n",
        "for i in range(len(modelos)):\n",
        "  pipeline2 = Pipeline(steps=[('ct',columnasTransformer),('m',modelos[i])])\n",
        "  cv2 = RepeatedStratifiedKFold(n_splits=5, n_repeats=3, random_state=0)\n",
        "  resultadosCVTest = cross_validate(pipeline2, X_test, y_test, scoring=mismetricas, cv=cv2)\n",
        "  resultadosRecallTest.append(resultadosCVTest['test_recall'])\n",
        "  print('%s:\\nAccuracy: %.3f (%.4f)\\nPrecision: %.3f (%.4f)\\nRecall: %.3f (%.4f)\\nF1-Score: %.3f (%.4f)\\nGmean: %.3f (%.4f)\\n' % (nombres[i],\n",
        "                                                                            np.mean(resultadosCVTest['test_accuracy']),\n",
        "                                                                            np.std(resultadosCVTest['test_accuracy']), \n",
        "                                                                            np.mean(resultadosCVTest['test_precision']),\n",
        "                                                                            np.std(resultadosCVTest['test_precision']),                                                                           \n",
        "                                                                            np.mean(resultadosCVTest['test_recall']),\n",
        "                                                                            np.std(resultadosCVTest['test_recall']),\n",
        "                                                                            np.mean(resultadosCVTest['test_f1-score']),\n",
        "                                                                            np.std(resultadosCVTest['test_f1-score']),                                                                           \n",
        "                                                                            np.mean(resultadosCVTest['test_gmean']),\n",
        "                                                                            np.std(resultadosCVTest['test_gmean']),  \n",
        "                                                                            ))\n"
      ]
    },
    {
      "cell_type": "code",
      "execution_count": 51,
      "metadata": {
        "colab": {
          "base_uri": "https://localhost:8080/",
          "height": 866
        },
        "id": "PWFatTpHH2O_",
        "outputId": "e78ea53b-6497-412d-fbee-a2321ba4d97d"
      },
      "outputs": [
        {
          "output_type": "display_data",
          "data": {
            "text/plain": [
              "<Figure size 1080x1080 with 1 Axes>"
            ],
            "image/png": "[encoded data removed]"
          },
          "metadata": {}
        }
      ],
      "source": [
        "plt.boxplot(resultadosRecallTrain, labels=nombres, showmeans=True)\n",
        "plt.show()"
      ]
    },
    {
      "cell_type": "code",
      "execution_count": 52,
      "metadata": {
        "id": "5mCaHYt2NCB-"
      },
      "outputs": [],
      "source": [
        "def get_modelsRegs():\n",
        "  modelos, nombres = list(), list()\n",
        "\n",
        "  # LR - sin regularización:\n",
        "  modelos.append(LogisticRegression(penalty='none', solver='lbfgs', max_iter=2000, random_state=1))\n",
        "  nombres.append('LR')\n",
        "\n",
        "  # Lasso:\n",
        "  modelos.append(LogisticRegression(penalty='l1', solver='liblinear', max_iter=2000, C=100., random_state=1))\n",
        "  nombres.append('LASSO')\n",
        "  \n",
        "  # Ridge:\n",
        "  modelos.append(LogisticRegression(penalty='l2', solver='liblinear', max_iter=10000, C=100., random_state=1))\n",
        "  nombres.append('RIDGE')\n",
        "  \n",
        "  # Elastic-Net:\n",
        "  modelos.append(LogisticRegression(penalty='elasticnet', l1_ratio=0.5, solver='saga', max_iter=4000, C=1., random_state=1))\n",
        "  nombres.append('EN')\n",
        "\n",
        "  return modelos, nombres"
      ]
    },
    {
      "cell_type": "code",
      "execution_count": 53,
      "metadata": {
        "colab": {
          "base_uri": "https://localhost:8080/",
          "height": 940
        },
        "id": "1ifvs71I-QO1",
        "outputId": "586a3efd-5c86-4d88-d443-9ae85f6a10e8"
      },
      "outputs": [
        {
          "output_type": "stream",
          "name": "stdout",
          "text": [
            ">> LR 0.767 (0.040)\n",
            ">> LASSO 0.768 (0.040)\n",
            ">> RIDGE 0.767 (0.040)\n",
            ">> EN 0.764 (0.038)\n"
          ]
        },
        {
          "output_type": "display_data",
          "data": {
            "text/plain": [
              "<Figure size 1080x1080 with 1 Axes>"
            ],
            "image/png": "[encoded data removed]"
          },
          "metadata": {}
        }
      ],
      "source": [
        "modelos, nombres = get_modelsRegs()\n",
        "resultados = list() \n",
        "\n",
        "for i in range(len(modelos)):\n",
        "\n",
        "  pipeline = Pipeline(steps=[('ct',columnasTransformer),('m',modelos[i])])\n",
        "\n",
        "  cv = RepeatedStratifiedKFold(n_splits=10, n_repeats=5, random_state=8)\n",
        "  scores = cross_val_score(pipeline, X_train, np.ravel(y_train), scoring='accuracy', cv=cv)\n",
        "\n",
        "  resultados.append(scores)\n",
        "  print('>> %s %.3f (%.3f)' % (nombres[i], np.mean(scores), np.std(scores)))\n",
        "\n",
        "\n",
        "plt.boxplot(resultados, labels=nombres, showmeans=True)\n",
        "plt.show()"
      ]
    },
    {
      "cell_type": "code",
      "execution_count": 54,
      "metadata": {
        "id": "1ABndH598laj"
      },
      "outputs": [],
      "source": [
        "# RIDGE - métrica L2:\n",
        "\n",
        "modelo = LogisticRegression(penalty='l2', max_iter=10000, random_state=1)\n",
        "\n",
        "dicc_grid = {'C':[0.0001,0.01,0.1,1.0,10.,100.],\n",
        "             'solver':['newton-cg','lbfgs','liblinear','sag','saga']\n",
        "             }\n",
        "\n",
        "cv = RepeatedStratifiedKFold(n_splits=10, n_repeats=5, random_state=8)\n",
        "\n",
        "grid = GridSearchCV(estimator=modelo, \n",
        "                    param_grid=dicc_grid, \n",
        "                    cv=cv, \n",
        "                    scoring='accuracy')"
      ]
    },
    {
      "cell_type": "code",
      "execution_count": 55,
      "metadata": {
        "colab": {
          "base_uri": "https://localhost:8080/"
        },
        "id": "6-1j5nJi8xjE",
        "outputId": "724f370c-df8d-4681-f694-8360aee9dd6a"
      },
      "outputs": [
        {
          "output_type": "stream",
          "name": "stdout",
          "text": [
            "Mejor valor de exactitud obtenido con la mejor combinación: 0.7675294117647059\n",
            "Mejor combinación de valores encontrados de los hiperparámetros: {'C': 10.0, 'solver': 'sag'}\n",
            "Métrica utilizada: accuracy\n"
          ]
        }
      ],
      "source": [
        "# Transformamos los datos de entrada:\n",
        "Xx = columnasTransformer.fit_transform(X_train)\n",
        "\n",
        "# Llevamos a cabo el proceso de etrenamiento con validación-cruzada y búsqueda de malla.\n",
        "# Observa que de acuerdo a las opciones incluidas en la malla, se estarán realizando (6)(5)=30 \n",
        "# combinaciones diferentes, además de las (10)(5)=50 particiones de la validación-cruzada,\n",
        "# lo cual implica también un mayor tiempo de entrenamiento.\n",
        "\n",
        "grid.fit(Xx, np.ravel(y_train))\n",
        "\n",
        "print('Mejor valor de exactitud obtenido con la mejor combinación:', grid.best_score_)\n",
        "print('Mejor combinación de valores encontrados de los hiperparámetros:', grid.best_params_)\n",
        "print('Métrica utilizada:', grid.scoring)"
      ]
    },
    {
      "cell_type": "code",
      "execution_count": 56,
      "metadata": {
        "colab": {
          "base_uri": "https://localhost:8080/"
        },
        "id": "f4EVcMH69p8Z",
        "outputId": "b859b4ba-c771-4390-a7ea-ab63ca30a7d6"
      },
      "outputs": [
        {
          "output_type": "stream",
          "name": "stdout",
          "text": [
            "0.7266666666666667\n"
          ]
        }
      ],
      "source": [
        "modelo = LogisticRegression(penalty='l2', \n",
        "                            max_iter=10000,\n",
        "                            C=10.0,\n",
        "                            solver='sag',\n",
        "                            random_state=1)\n",
        "\n",
        "# Entrenamos el modelo por última vez con los datos de entrenamiento y validación conjuntos:\n",
        "Xct = columnasTransformer.fit(X_train)\n",
        "Xxt = Xct.transform(X_train)\n",
        "modelo.fit(Xxt, np.ravel(y_train))\n",
        "\n",
        "# Transformamos los datos de prueba y los utilizamos por primera vez para obtener sus predicciones\n",
        "# y desempeño del modelo:\n",
        "\n",
        "Xxtest = Xct.transform(X_test)\n",
        "print(modelo.score(Xxtest, np.ravel(y_test)))"
      ]
    },
    {
      "cell_type": "code",
      "execution_count": 57,
      "metadata": {
        "id": "jb8XvAMoQ756"
      },
      "outputs": [],
      "source": [
        "def mi_LearningCurvePlot(train_sizes, train_scores, val_scores):\n",
        "\n",
        "    # Argumentos de entrada de la función mi_LearningCurvePlot:\n",
        "    #      train_sizes : número de observaciones en el conjunto de entrenamiento.\n",
        "    #      train_scores : Exactitud de cada partición en el proceso de Validación-Cruzada (VC) en los datos de entrenamiento.\n",
        "    #                     La dimensión de este conjunto es (pxq) \n",
        "    #                                     donde p=\"número de particiones de manera incremental del conjunto de entrenamiento\".\n",
        "    #                                           q=\"número de particiones de VC\" * \"número de repeticiones de VC con RepitedStratifiedCV\"\n",
        "    #      val_scores : Exactitud de cada partición en el proceso de Validación-Cruzada en los datos de validación.\n",
        "    #                   Es de la misma dimensión que los train_scores. \n",
        "    # Output: la salida es el gráfico con las curvas de aprendizaje.\n",
        "\n",
        "    # Obtenemos los promedios y desviaciones estándar de cada renglón de los resultados de entrenamiento y validación\n",
        "    # La dimensión de cada uno es p=\"número de particiones de manera incremental del conjunto de entrenamiento\".\n",
        "    train_mean = np.mean(train_scores, axis=1)\n",
        "    train_std = np.std(train_scores, axis=1)\n",
        "    val_mean = np.mean(val_scores, axis=1)\n",
        "    val_std = np.std(val_scores, axis=1)\n",
        "\n",
        "    # Graficamos las curvas de aprendizaje incluyendo una región indicando la desviación estándar.\n",
        "    plt.figure(figsize=(7,6))\n",
        "    plt.plot(train_sizes, train_mean, color='blue', marker='o', markersize=5, label='Training')\n",
        "    plt.fill_between(train_sizes, train_mean + train_std, train_mean - train_std, alpha=0.1, color='blue')\n",
        "    \n",
        "    plt.plot(train_sizes, val_mean, color='red', marker='+', markersize=5, linestyle='--', label='Validation')\n",
        "    plt.fill_between(train_sizes, val_mean + val_std, val_mean - val_std, alpha=0.1, color='red')\n",
        "    \n",
        "    plt.title('Curvas de Aprendizaje incrementando el tamaño de la muestra')\n",
        "    plt.xlabel('Tamaño del conjunto de entrenamiento')\n",
        "    plt.ylabel('Exactitud (accuracy)')\n",
        "    plt.grid()\n",
        "    plt.legend(loc='lower left')\n",
        "    plt.show()"
      ]
    },
    {
      "cell_type": "code",
      "execution_count": 58,
      "metadata": {
        "id": "3yQOUeJs_zt8"
      },
      "outputs": [],
      "source": [
        "def mi_ModeloYCurvas(Xin):\n",
        "       # Usemos primeramente el modelo de regresión logística\n",
        "       # con sus parámetros predeterminados y semilla igual a 1.\n",
        "       # Incremenetamos además el máximo de iteraciones para \n",
        "       # asegurar la convergencia de cada partición de la VC.\n",
        "\n",
        "       modelo = LogisticRegression(penalty='l2', \n",
        "                            max_iter=10000,\n",
        "                            C=10.0,\n",
        "                            solver='sag',\n",
        "                            random_state=1)\n",
        "\n",
        "       ########################################################################\n",
        "       # INICIA LA SECCIÓN PARA AGREGAR CÓDIGO.\n",
        "       # Ejercicio 2\n",
        "       # Sustituye \"None\" por el código que se te indica.\n",
        "\n",
        "     \n",
        "       # Ejercicio 2.1: Define el pipeline como se te indicó:\n",
        "       # Se espera una línea de código.\n",
        "\n",
        "       mi_pipe = Pipeline(steps=[('ct',columnasTransformer),('m',modelos[i])])\n",
        "\n",
        "\n",
        "       # Ejercicio 2.2: Aplica validación cruzada estratificada y con repeticiones.\n",
        "       #                Solo define los tres argumentos que se te indicaron.\n",
        "       # Se espera una línea de código.\n",
        "\n",
        "       mi_kfold = RepeatedStratifiedKFold(n_splits=5, n_repeats=3, random_state=0)\n",
        "\n",
        "\n",
        "       # Ejercicio 2.3: Genera un arreglo con los 40 valores de los tamaños de muestra:\n",
        "       # Se espera una línea de código.\n",
        "       \n",
        "       delta_train_sz = np.linspace(0.1, 1.0, 40)\n",
        "\n",
        "\n",
        "       # Ejercicio 2.4:: Incluye los argumentos que se te indican a la \n",
        "       # función learning_curve. Solo sustituye \"None\" por el valor del\n",
        "       # argumento adecuado en cada caso.\n",
        "\n",
        "       tr_sizes, tr_scores, val_scores = learning_curve(estimator = mi_pipe ,    \n",
        "                                                        X = Xin,\n",
        "                                                        y = y_train,\n",
        "                                                        cv = mi_kfold ,\n",
        "                                                        train_sizes = delta_train_sz ,\n",
        "                                                        random_state=11)\n",
        "       \n",
        "       # TERMINA LA SECCIÓN PARA AGREGAR CÓDIGO.\n",
        "       ######################################################################\n",
        "\n",
        "\n",
        "       # Obtenemos el gráfico con las curvas de aprendizaje:\n",
        "       mi_LearningCurvePlot(tr_sizes, tr_scores, val_scores)"
      ]
    },
    {
      "cell_type": "code",
      "execution_count": 59,
      "metadata": {
        "colab": {
          "base_uri": "https://localhost:8080/",
          "height": 428
        },
        "id": "a3inu0-pAvLg",
        "outputId": "f6953c62-1116-4b5f-9740-9e2002d226b3"
      },
      "outputs": [
        {
          "output_type": "stream",
          "name": "stdout",
          "text": [
            "Curvas de aprendizaje del modelo lineal:\n"
          ]
        },
        {
          "output_type": "display_data",
          "data": {
            "text/plain": [
              "<Figure size 504x432 with 1 Axes>"
            ],
            "image/png": "[encoded data removed]"
          },
          "metadata": {}
        }
      ],
      "source": [
        "print('Curvas de aprendizaje del modelo lineal:')\n",
        "mi_ModeloYCurvas(X_train)"
      ]
    },
    {
      "cell_type": "code",
      "execution_count": 60,
      "metadata": {
        "id": "w52qqiqyMwgb"
      },
      "outputs": [],
      "source": [
        "def mi_ModeloYCurvasArbol(Xin,Yin):\n",
        "       # Usemos primeramente el modelo de regresión logística\n",
        "       # con sus parámetros predeterminados y semilla igual a 1.\n",
        "       # Incremenetamos además el máximo de iteraciones para \n",
        "       # asegurar la convergencia de cada partición de la VC.\n",
        "\n",
        "       modelo = RandomForestClassifier()\n",
        "\n",
        "       ########################################################################\n",
        "       # INICIA LA SECCIÓN PARA AGREGAR CÓDIGO.\n",
        "       # Ejercicio 2\n",
        "       # Sustituye \"None\" por el código que se te indica.\n",
        "\n",
        "     \n",
        "       # Ejercicio 2.1: Define el pipeline como se te indicó:\n",
        "       # Se espera una línea de código.\n",
        "\n",
        "       mi_pipe = Pipeline(steps=[('ct',columnasTransformer),('m',modelo)])\n",
        "\n",
        "\n",
        "       # Ejercicio 2.2: Aplica validación cruzada estratificada y con repeticiones.\n",
        "       #                Solo define los tres argumentos que se te indicaron.\n",
        "       # Se espera una línea de código.\n",
        "\n",
        "       mi_kfold = RepeatedStratifiedKFold (n_splits=5, n_repeats=3, random_state=0)\n",
        "\n",
        "\n",
        "       # Ejercicio 2.3: Genera un arreglo con los 40 valores de los tamaños de muestra:\n",
        "       # Se espera una línea de código.\n",
        "       \n",
        "       delta_train_sz = np.linspace(.1, 1, 20)\n",
        "\n",
        "\n",
        "       # Ejercicio 2.4:: Incluye los argumentos que se te indican a la \n",
        "       # función learning_curve. Solo sustituye \"None\" por el valor del\n",
        "       # argumento adecuado en cada caso.\n",
        "\n",
        "       tr_sizes, tr_scores, val_scores = learning_curve(estimator = mi_pipe ,    \n",
        "                                                        X = Xin,\n",
        "                                                        y = Yin,\n",
        "                                                        cv = mi_kfold ,\n",
        "                                                        train_sizes = delta_train_sz ,\n",
        "                                                        random_state=10,\n",
        "                                                        scoring=make_scorer(mi_recall))\n",
        "       \n",
        "       \n",
        "       # TERMINA LA SECCIÓN PARA AGREGAR CÓDIGO.\n",
        "       ######################################################################\n",
        "\n",
        "\n",
        "       # Obtenemos el gráfico con las curvas de aprendizaje:\n",
        "       mi_LearningCurvePlot(tr_sizes, tr_scores, val_scores)"
      ]
    },
    {
      "cell_type": "code",
      "execution_count": 61,
      "metadata": {
        "colab": {
          "base_uri": "https://localhost:8080/",
          "height": 428
        },
        "id": "_EkZJVifRm9O",
        "outputId": "8614958e-6b20-469d-9cd4-72cad0b3dc15"
      },
      "outputs": [
        {
          "output_type": "stream",
          "name": "stdout",
          "text": [
            "Curvas de aprendizaje del modelo Árbol:\n"
          ]
        },
        {
          "output_type": "display_data",
          "data": {
            "text/plain": [
              "<Figure size 504x432 with 1 Axes>"
            ],
            "image/png": "[encoded data removed]"
          },
          "metadata": {}
        }
      ],
      "source": [
        "print('Curvas de aprendizaje del modelo Árbol:')\n",
        "mi_ModeloYCurvasArbol(X_train, y_train)"
      ]
    },
    {
      "cell_type": "markdown",
      "metadata": {
        "id": "Rv7KFq-mC7PS"
      },
      "source": [
        "#**Ejercicio-5.**"
      ]
    },
    {
      "cell_type": "code",
      "execution_count": 62,
      "metadata": {
        "id": "jaDj3kawC9B6"
      },
      "outputs": [],
      "source": [
        "None"
      ]
    },
    {
      "cell_type": "code",
      "execution_count": 62,
      "metadata": {
        "id": "4tQxQROVC9Us"
      },
      "outputs": [],
      "source": []
    },
    {
      "cell_type": "markdown",
      "metadata": {
        "id": "W2S7LI0NC9wE"
      },
      "source": [
        "#**Ejercicio-6.**"
      ]
    },
    {
      "cell_type": "code",
      "execution_count": 63,
      "metadata": {
        "id": "x6uBleJUC_AU"
      },
      "outputs": [],
      "source": [
        "None"
      ]
    },
    {
      "cell_type": "code",
      "execution_count": 63,
      "metadata": {
        "id": "n0P_AcyjC_Dh"
      },
      "outputs": [],
      "source": []
    },
    {
      "cell_type": "markdown",
      "metadata": {
        "id": "7ql_r2G-DB_m"
      },
      "source": [
        "###**Fin de la Actividad de la semana 6.**"
      ]
    }
  ],
  "metadata": {
    "accelerator": "GPU",
    "colab": {
      "collapsed_sections": [
        "Rv7KFq-mC7PS",
        "W2S7LI0NC9wE",
        "7ql_r2G-DB_m"
      ],
      "provenance": []
    },
    "kernelspec": {
      "display_name": "Python 3.10.4 64-bit",
      "language": "python",
      "name": "python3"
    },
    "language_info": {
      "codemirror_mode": {
        "name": "ipython",
        "version": 3
      },
      "file_extension": ".py",
      "mimetype": "text/x-python",
      "name": "python",
      "nbconvert_exporter": "python",
      "pygments_lexer": "ipython3",
      "version": "3.10.4"
    },
    "vscode": {
      "interpreter": {
        "hash": "2b5fefa4ed23b55a8f4c6671f286f80cea486c8766280da122d0e278ca47357c"
      }
    }
  },
  "nbformat": 4,
  "nbformat_minor": 0
}